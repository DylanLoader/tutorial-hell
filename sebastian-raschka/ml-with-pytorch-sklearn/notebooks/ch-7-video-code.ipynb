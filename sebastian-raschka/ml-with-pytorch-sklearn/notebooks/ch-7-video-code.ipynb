{
 "cells": [
  {
   "cell_type": "code",
   "execution_count": 1,
   "metadata": {},
   "outputs": [],
   "source": [
    "# Imports\n",
    "from sklearn import model_selection\n",
    "from sklearn.tree import DecisionTreeClassifier\n",
    "from sklearn.model_selection import train_test_split\n",
    "from sklearn import datasets\n",
    "from mlxtend.classifier import EnsembleVoteClassifier"
   ]
  },
  {
   "cell_type": "code",
   "execution_count": 2,
   "metadata": {},
   "outputs": [],
   "source": [
    "iris = datasets.load_iris()\n",
    "X, y = iris.data[:, [0,3]], iris.target\n",
    "\n",
    "X_train, X_test, y_train, y_test = train_test_split(X, y, test_size=0.25, random_state=1)\n",
    "\n",
    "X_train, X_val, y_train, y_val = train_test_split(X_train, y_train, test_size=0.25, random_state=1)"
   ]
  },
  {
   "cell_type": "code",
   "execution_count": 3,
   "metadata": {},
   "outputs": [
    {
     "name": "stdout",
     "output_type": "stream",
     "text": [
      "Train/Validation/Test sizes: 84, 28, 38\n"
     ]
    }
   ],
   "source": [
    "print(f\"Train/Validation/Test sizes: {y_train.shape[0]}, {y_val.shape[0]}, {y_test.shape[0]}\")"
   ]
  },
  {
   "cell_type": "code",
   "execution_count": 10,
   "metadata": {},
   "outputs": [
    {
     "name": "stdout",
     "output_type": "stream",
     "text": [
      "Validation Accuracy 0.86 [Classifier 1]\n",
      "Validation Accuracy 0.82 [Classifier 2]\n",
      "Validation Accuracy 0.93 [Classifier 3]\n",
      "Validation Accuracy 0.93 [Ensemble]\n"
     ]
    }
   ],
   "source": [
    "clf1 = DecisionTreeClassifier(random_state=1)\n",
    "clf2 = DecisionTreeClassifier(random_state=1, max_depth=1)\n",
    "clf3 = DecisionTreeClassifier(random_state=1, max_depth=3)\n",
    "eclf = EnsembleVoteClassifier(clfs = [clf1, clf2, clf3], weights=[1,1,1])\n",
    "\n",
    "labels = [\"Classifier 1\", \"Classifier 2\", \"Classifier 3\", \"Ensemble\"]\n",
    "for clf, label in zip([clf1, clf2, clf3, eclf], labels):\n",
    "    clf.fit(X_train, y_train)\n",
    "    print(f\"Validation Accuracy {round(clf.score(X_val, y_val),2)} [{label}]\")"
   ]
  },
  {
   "cell_type": "code",
   "execution_count": 11,
   "metadata": {},
   "outputs": [
    {
     "name": "stdout",
     "output_type": "stream",
     "text": [
      "Test Accuracy: 0.95\n"
     ]
    }
   ],
   "source": [
    "print(f\"Test Accuracy: {round(eclf.score(X_test, y_test), 2)}\")"
   ]
  },
  {
   "cell_type": "code",
   "execution_count": null,
   "metadata": {},
   "outputs": [],
   "source": [
    "# Chapter 7.4 Code\n",
    "\n",
    "\n"
   ]
  }
 ],
 "metadata": {
  "kernelspec": {
   "display_name": "Python 3.9.13 ('graph-env')",
   "language": "python",
   "name": "python3"
  },
  "language_info": {
   "codemirror_mode": {
    "name": "ipython",
    "version": 3
   },
   "file_extension": ".py",
   "mimetype": "text/x-python",
   "name": "python",
   "nbconvert_exporter": "python",
   "pygments_lexer": "ipython3",
   "version": "3.9.13"
  },
  "orig_nbformat": 4,
  "vscode": {
   "interpreter": {
    "hash": "fcc07e1e01adbdded35d8f9717610a84b930227b5814bd6582200366d0ebd60f"
   }
  }
 },
 "nbformat": 4,
 "nbformat_minor": 2
}
