{
 "cells": [
  {
   "attachments": {},
   "cell_type": "markdown",
   "metadata": {},
   "source": [
    "# Chapter 1: Graph \n",
    "source: https://doc.dgl.ai/en/1.1.x/guide/graph.html\n"
   ]
  },
  {
   "attachments": {},
   "cell_type": "markdown",
   "metadata": {},
   "source": [
    "## 1.1 Some Basic Definitions about Graphs (Graphs 101)"
   ]
  },
  {
   "attachments": {},
   "cell_type": "markdown",
   "metadata": {},
   "source": [
    "A graph $G = (V, E)$ is a structure used to represent entities (elements in the set $V$) and their relations (elements in the set $E$). We denote the set of nodes/vertices as $V$. And the corresponding edges, $E$. Where an edge is $(u,v) \\in E$. \n",
    "\n",
    "Graphs can be either directed, such that $(u,v) \\in E = (v,u) \\in E$. Or, undirected such that $(u,v) \\in E \\neq (v,u) \\in E$.\n",
    "\n",
    "Graphs can be weighted or unweighted. In a weighted graph, each edge is associated with a scalar weight. Weights may represent distance between nodes or another measure of connectivity such as transaction amount in a transaction graph. \n",
    "\n",
    "Graphs can be homogeneous or heterogeneous. In a homogeneous graph nodes and edges are of the same type. For example in a social network we could consider nodes to be people and edges to be \"is a friend of\". Since we have only one user type, 'person' and one edge type, 'is a friend of', this is a homogenous graph. \n",
    "\n",
    "A transaction graph would be an example of a heterogeneous graph, where we would have two node types, customers and merchants and two edge types, customer-to-merchant purchases and customer-to-customer transfers, such as e-transferring a friend for buying lunch. \n",
    "\n",
    "Multigraphs are graphs that have multiple (directed) edges between the same pair of nodes, including self-loops. "
   ]
  },
  {
   "attachments": {},
   "cell_type": "markdown",
   "metadata": {},
   "source": [
    "## 1.2 Graphs, Nodes, Edges\n",
    "\n",
    "Dgl represents each node by a unique integer, called its Node ID, and each edge as a pair of integers, corresponding to the IDs of its end nodes. \n",
    "\n",
    "DGL assigns each edge a unique integer, called its **edge ID**, based on the order in which it was added to the graph. The numbering of node and edge IDs starting from 0. \n",
    "\n",
    "In DGL all edges are directed, and an edge (u,v) indicates that the direction goes from u to v. "
   ]
  },
  {
   "attachments": {},
   "cell_type": "markdown",
   "metadata": {},
   "source": [
    "To specify multiple nodes, DGL uses a 1D integet tensor such as PyTorch's tensor, TensorFlow's Tensor or MXNet's ndarray of Node IDs. DGL refers to this specification as \"node-tensors\"\n",
    "\n",
    "To specify multiple edges, DGL uses a tuple of node-tensors $(U,V)$. Where $(U[i], V[i])$ denotes an edge from $U[i]$ to $V[i]$. \n",
    "\n",
    "We can create a graph in DGL using the `dgl.graph()` method. This method takes a set of edges as input. DGL supports creating graphs from additional data sources. "
   ]
  },
  {
   "cell_type": "code",
   "execution_count": 1,
   "metadata": {},
   "outputs": [
    {
     "name": "stdout",
     "output_type": "stream",
     "text": [
      "Graph(num_nodes=4, num_edges=4,\n",
      "      ndata_schemes={}\n",
      "      edata_schemes={})\n"
     ]
    }
   ],
   "source": [
    "# An example of creating a with dgl \n",
    "import dgl\n",
    "import torch as th\n",
    "\n",
    "# Edges: 0->1; 0->2; 0->3; 1->3\n",
    "u, v = th.tensor([0,0,0,1]), th.tensor([1,2,3,3])\n",
    "g = dgl.graph((u,v))\n",
    "print(g)"
   ]
  },
  {
   "cell_type": "code",
   "execution_count": 4,
   "metadata": {},
   "outputs": [
    {
     "name": "stdout",
     "output_type": "stream",
     "text": [
      "The nodes in the graph are: tensor([0, 1, 2, 3])\n"
     ]
    }
   ],
   "source": [
    "# Node IDs\n",
    "print(f\"The nodes in the graph are: {g.nodes()}\")"
   ]
  },
  {
   "cell_type": "code",
   "execution_count": 5,
   "metadata": {},
   "outputs": [
    {
     "name": "stdout",
     "output_type": "stream",
     "text": [
      "The edges in the graph are (tensor([0, 0, 0, 1]), tensor([1, 2, 3, 3]))\n"
     ]
    }
   ],
   "source": [
    "print(f\"The edges in the graph are {g.edges()}\")"
   ]
  },
  {
   "cell_type": "code",
   "execution_count": 7,
   "metadata": {},
   "outputs": [
    {
     "name": "stdout",
     "output_type": "stream",
     "text": [
      "(tensor([0, 0, 0, 1]), tensor([1, 2, 3, 3]), tensor([0, 1, 2, 3]))\n"
     ]
    }
   ],
   "source": [
    "#print the edge nodes and edge IDs form: edges, nodes\n",
    "print(g.edges(form='all'))"
   ]
  },
  {
   "cell_type": "code",
   "execution_count": 8,
   "metadata": {},
   "outputs": [],
   "source": [
    "# If the node with largest node ID (The newest node) is isolated we need to explicitly set number of nodes\n",
    "g = dgl.graph((u,v ), num_nodes=8)\n"
   ]
  },
  {
   "cell_type": "code",
   "execution_count": 10,
   "metadata": {},
   "outputs": [
    {
     "data": {
      "text/plain": [
       "(tensor([0, 0, 0, 1, 1, 2, 3, 3]),\n",
       " tensor([1, 2, 3, 0, 3, 0, 0, 1]),\n",
       " tensor([0, 1, 2, 3, 4, 5, 6, 7]))"
      ]
     },
     "execution_count": 10,
     "metadata": {},
     "output_type": "execute_result"
    }
   ],
   "source": [
    "# for undirected graphs we need to create a bidirected graph\n",
    "\n",
    "bg = dgl.to_bidirected(g)\n",
    "bg.edges(form='all')"
   ]
  },
  {
   "cell_type": "code",
   "execution_count": null,
   "metadata": {},
   "outputs": [],
   "source": [
    "# check the number of edges in the bidirectional graph "
   ]
  },
  {
   "attachments": {},
   "cell_type": "markdown",
   "metadata": {},
   "source": [
    "- DGL can use either 32 or 64 bit integers to store node and edge IDs. \n",
    "- DGL can handle graphs with $2^63-1$ nodes or edges. \n",
    "- If a graph contains less than $2^31 - 1$ edges or nodes one should use 32-bit integers for better speed and memory usage. "
   ]
  },
  {
   "cell_type": "code",
   "execution_count": 11,
   "metadata": {},
   "outputs": [
    {
     "name": "stdout",
     "output_type": "stream",
     "text": [
      "torch.int64\n"
     ]
    }
   ],
   "source": [
    "# Converting between integer types\n",
    "edges = (th.tensor([2,5,3]), th.tensor([3,5,0]))\n",
    "g64 = dgl.graph(edges)\n",
    "print(g64.idtype)"
   ]
  },
  {
   "cell_type": "code",
   "execution_count": 13,
   "metadata": {},
   "outputs": [
    {
     "name": "stdout",
     "output_type": "stream",
     "text": [
      "torch.int32\n"
     ]
    }
   ],
   "source": [
    "g32 = dgl.graph(edges, idtype=th.int32)\n",
    "print(g32.idtype)"
   ]
  },
  {
   "attachments": {},
   "cell_type": "markdown",
   "metadata": {},
   "source": [
    "## 1.3 Node and Edge Features\n",
    "\n",
    "The nodes and edges of a `DGLGraph` can have several user defined named features for storing graph-specific properties. These may be accessed using the `ndata` and `edata` interfaces respectively. "
   ]
  },
  {
   "cell_type": "code",
   "execution_count": 19,
   "metadata": {},
   "outputs": [
    {
     "data": {
      "text/plain": [
       "Graph(num_nodes=6, num_edges=4,\n",
       "      ndata_schemes={}\n",
       "      edata_schemes={})"
      ]
     },
     "execution_count": 19,
     "metadata": {},
     "output_type": "execute_result"
    }
   ],
   "source": [
    "g = dgl.graph(([0,0,1,5], [1,2,2,0]))\n",
    "g"
   ]
  },
  {
   "cell_type": "code",
   "execution_count": 20,
   "metadata": {},
   "outputs": [
    {
     "data": {
      "text/plain": [
       "Graph(num_nodes=6, num_edges=4,\n",
       "      ndata_schemes={'x': Scheme(shape=(3,), dtype=torch.float32)}\n",
       "      edata_schemes={'x': Scheme(shape=(), dtype=torch.int32)})"
      ]
     },
     "execution_count": 20,
     "metadata": {},
     "output_type": "execute_result"
    }
   ],
   "source": [
    "g.ndata['x'] = th.ones(g.num_nodes(), 3)\n",
    "g.edata['x'] = th.ones(g.num_edges(), dtype=th.int32)\n",
    "g"
   ]
  },
  {
   "cell_type": "code",
   "execution_count": 21,
   "metadata": {},
   "outputs": [
    {
     "data": {
      "text/plain": [
       "tensor([1., 1., 1.])"
      ]
     },
     "execution_count": 21,
     "metadata": {},
     "output_type": "execute_result"
    }
   ],
   "source": [
    "# Different names may have different shapes\n",
    "g.ndata['y'] = th.randn(g.num_nodes(), 5)\n",
    "g.ndata['x'][1]"
   ]
  },
  {
   "cell_type": "code",
   "execution_count": 22,
   "metadata": {},
   "outputs": [
    {
     "data": {
      "text/plain": [
       "tensor([1, 1], dtype=torch.int32)"
      ]
     },
     "execution_count": 22,
     "metadata": {},
     "output_type": "execute_result"
    }
   ],
   "source": [
    "# Get features of edges 0 and 3\n",
    "g.edata['x'][th.tensor([0,3])]"
   ]
  },
  {
   "attachments": {},
   "cell_type": "markdown",
   "metadata": {},
   "source": [
    "Key Points of ndata and edata interface:\n",
    "\n",
    "- Only features of numerical types (eg. float, double, int) are allowed. They can be scalars, vectors, or multidimensional tensors.\n",
    "- Each node feature has a unique name and each edge feature has a unique name. The features for nodes and edges may have the same name. \n",
    "- A feature is created via tensor assignment, which assigns a feature to each node/edge in the graph. The leading dimension of that tensor must be equal to the number of nodes or edges in that graph. You cannot assign a feature to a subset of the nodes/edges in the graph. \n",
    "- Features of the same name must have the same dimensionality and data type. \n",
    "- The feature tensor is in row-major layout - each row-slice stores the feature of one node or edge. "
   ]
  },
  {
   "cell_type": "code",
   "execution_count": 24,
   "metadata": {},
   "outputs": [
    {
     "data": {
      "text/plain": [
       "Graph(num_nodes=4, num_edges=4,\n",
       "      ndata_schemes={}\n",
       "      edata_schemes={'w': Scheme(shape=(), dtype=torch.float32)})"
      ]
     },
     "execution_count": 24,
     "metadata": {},
     "output_type": "execute_result"
    }
   ],
   "source": [
    "# For weighted graphs, one can store the weights as an edge feature as follows:\n",
    "edges = (th.tensor([0,0,0,1]), th.tensor([1,2,3,3]))\n",
    "weights = th.tensor([0.1, 0.6, 0.9, 0.7]) \n",
    "g = dgl.graph(edges)\n",
    "g.edata['w'] = weights\n",
    "g"
   ]
  },
  {
   "attachments": {},
   "cell_type": "markdown",
   "metadata": {},
   "source": [
    "## 1.4 Creating Graphs from External Sources\n",
    "\n",
    "DGL supports converting from external data sources such as:\n",
    "1. Conversion from external python libraries for graphs and sparse matrices (NetworkX and SciPy)\n",
    "2. Loading graphs from disk. "
   ]
  },
  {
   "attachments": {},
   "cell_type": "markdown",
   "metadata": {},
   "source": [
    "### Creating Graphs from External Libraries"
   ]
  },
  {
   "cell_type": "code",
   "execution_count": 25,
   "metadata": {},
   "outputs": [
    {
     "data": {
      "text/plain": [
       "Graph(num_nodes=100, num_edges=500,\n",
       "      ndata_schemes={}\n",
       "      edata_schemes={})"
      ]
     },
     "execution_count": 25,
     "metadata": {},
     "output_type": "execute_result"
    }
   ],
   "source": [
    "import scipy.sparse as sp\n",
    "spmat = sp.rand(100, 100, density=0.05)\n",
    "dgl.from_scipy(spmat)"
   ]
  },
  {
   "cell_type": "code",
   "execution_count": 26,
   "metadata": {},
   "outputs": [
    {
     "data": {
      "text/plain": [
       "Graph(num_nodes=5, num_edges=8,\n",
       "      ndata_schemes={}\n",
       "      edata_schemes={})"
      ]
     },
     "execution_count": 26,
     "metadata": {},
     "output_type": "execute_result"
    }
   ],
   "source": [
    "import networkx as nx\n",
    "nx_g = nx.path_graph(5)\n",
    "dgl.from_networkx(nx_g)"
   ]
  },
  {
   "attachments": {},
   "cell_type": "markdown",
   "metadata": {},
   "source": [
    "Note: when creating the networkx graph using `path_graph()` the created graph is by default undirected. Where as DGL creates a directed graph by default. DGL internally converts undirected edges to two directed edges. Using directed NetworkX graphs can avoid this behaviour. "
   ]
  },
  {
   "cell_type": "code",
   "execution_count": 28,
   "metadata": {},
   "outputs": [
    {
     "data": {
      "text/plain": [
       "Graph(num_nodes=4, num_edges=4,\n",
       "      ndata_schemes={}\n",
       "      edata_schemes={})"
      ]
     },
     "execution_count": 28,
     "metadata": {},
     "output_type": "execute_result"
    }
   ],
   "source": [
    "nxg = nx.DiGraph([(2,1), (1,2), (2,3), (0,0)])\n",
    "dgl.from_networkx(nxg)"
   ]
  },
  {
   "attachments": {},
   "cell_type": "markdown",
   "metadata": {},
   "source": [
    "Note: DGL internally converts SciPy matrices and NetworkX graphs to tensors to construct graphs. Hence, these construction methods are not meant for performance critical operations. "
   ]
  },
  {
   "attachments": {},
   "cell_type": "markdown",
   "metadata": {},
   "source": [
    "### Loading Graphs from Disk\n",
    "\n",
    "DLG supports: \n",
    "- Loading from CSV\n",
    "- Loading from JSON/GML although this is not particularly fast as they call the functionalities built into NetworkX to do so. \n",
    "- DGL Binary Format has an API built directly into DGL, this API also handles feature data and graph-level label data. \n",
    "- S3 and HDFS are also supported through DGL. "
   ]
  },
  {
   "attachments": {},
   "cell_type": "markdown",
   "metadata": {},
   "source": [
    "## 1.5 Heterogeneous Graphs\n",
    "\n",
    "A heterogeneous graph can have nodes and/or edges of multiple types. Nodes/Edges of different types have *independent* ID space and feature storage. \n",
    "\n",
    "Example: \n",
    "\n",
    "![](https://data.dgl.ai/asset/image/user_guide_graphch_2.png)"
   ]
  },
  {
   "cell_type": "code",
   "execution_count": 29,
   "metadata": {},
   "outputs": [],
   "source": [
    "# The example in code\n",
    "graph_data = {\n",
    "    ('user', 'plays','game'): (th.tensor([0,0,1,1]), th.tensor([0,1,1,2])),\n",
    "    ('user', 'follows', 'user'): (th.tensor([0]), th.tensor([1])),\n",
    "}"
   ]
  },
  {
   "cell_type": "code",
   "execution_count": 31,
   "metadata": {},
   "outputs": [
    {
     "data": {
      "text/plain": [
       "['game', 'user']"
      ]
     },
     "execution_count": 31,
     "metadata": {},
     "output_type": "execute_result"
    }
   ],
   "source": [
    "g = dgl.heterograph(graph_data)\n",
    "g.ntypes"
   ]
  },
  {
   "cell_type": "code",
   "execution_count": 32,
   "metadata": {},
   "outputs": [
    {
     "data": {
      "text/plain": [
       "['follows', 'plays']"
      ]
     },
     "execution_count": 32,
     "metadata": {},
     "output_type": "execute_result"
    }
   ],
   "source": [
    "g.etypes"
   ]
  },
  {
   "cell_type": "code",
   "execution_count": 33,
   "metadata": {},
   "outputs": [
    {
     "data": {
      "text/plain": [
       "[('user', 'follows', 'user'), ('user', 'plays', 'game')]"
      ]
     },
     "execution_count": 33,
     "metadata": {},
     "output_type": "execute_result"
    }
   ],
   "source": [
    "g.canonical_etypes"
   ]
  },
  {
   "attachments": {},
   "cell_type": "markdown",
   "metadata": {},
   "source": [
    "We can use DGL to represent homogeneous and bipartite graphs as well as they are special cases of heterogenous graphs."
   ]
  },
  {
   "cell_type": "code",
   "execution_count": 35,
   "metadata": {},
   "outputs": [
    {
     "data": {
      "text/plain": [
       "Graph(num_nodes=4, num_edges=4,\n",
       "      ndata_schemes={}\n",
       "      edata_schemes={})"
      ]
     },
     "execution_count": 35,
     "metadata": {},
     "output_type": "execute_result"
    }
   ],
   "source": [
    "# Homogeneous graph\n",
    "dgl.heterograph({('node_type', 'edge_type', 'node_type'): (u,v)})"
   ]
  },
  {
   "cell_type": "code",
   "execution_count": 36,
   "metadata": {},
   "outputs": [
    {
     "data": {
      "text/plain": [
       "Graph(num_nodes={'destination_type': 4, 'source_type': 2},\n",
       "      num_edges={('source_type', 'edge_type', 'destination_type'): 4},\n",
       "      metagraph=[('source_type', 'destination_type', 'edge_type')])"
      ]
     },
     "execution_count": 36,
     "metadata": {},
     "output_type": "execute_result"
    }
   ],
   "source": [
    "# Bipartite Graph\n",
    "dgl.heterograph({('source_type', 'edge_type', 'destination_type'): (u,v)})"
   ]
  },
  {
   "attachments": {},
   "cell_type": "markdown",
   "metadata": {},
   "source": [
    "- The metagraph associated with a heterogeneous graph is the schema of the graph. \n",
    "- The metagraph specifies type constraints on the sets of nodes and edges between nodes.\n",
    "- A node $u$ in a metagraph corresponds to a node type in the associated heterograph. \n",
    "- An edge $(u,v)$ in a metagraph indicates that there are edges from nodes of type $u$ to nodes of type $v$ in the associated heterograph. "
   ]
  },
  {
   "cell_type": "code",
   "execution_count": 37,
   "metadata": {},
   "outputs": [
    {
     "data": {
      "text/plain": [
       "Graph(num_nodes={'game': 3, 'user': 2},\n",
       "      num_edges={('user', 'follows', 'user'): 1, ('user', 'plays', 'game'): 4},\n",
       "      metagraph=[('user', 'user', 'follows'), ('user', 'game', 'plays')])"
      ]
     },
     "execution_count": 37,
     "metadata": {},
     "output_type": "execute_result"
    }
   ],
   "source": [
    "g"
   ]
  },
  {
   "cell_type": "code",
   "execution_count": 38,
   "metadata": {},
   "outputs": [
    {
     "data": {
      "text/plain": [
       "OutMultiEdgeDataView([('user', 'user'), ('user', 'game')])"
      ]
     },
     "execution_count": 38,
     "metadata": {},
     "output_type": "execute_result"
    }
   ],
   "source": [
    "g.metagraph().edges()"
   ]
  },
  {
   "attachments": {},
   "cell_type": "markdown",
   "metadata": {},
   "source": [
    "### Working with Multiple Types\n",
    "\n",
    "When multiple node/edge types are introduced, users need to specify the particular node/edge type when invoking the DGLGraph API for type-specific information. "
   ]
  },
  {
   "cell_type": "code",
   "execution_count": 39,
   "metadata": {},
   "outputs": [
    {
     "data": {
      "text/plain": [
       "5"
      ]
     },
     "execution_count": 39,
     "metadata": {},
     "output_type": "execute_result"
    }
   ],
   "source": [
    "g.num_nodes() # get number of all nodes in the graph"
   ]
  },
  {
   "cell_type": "code",
   "execution_count": 42,
   "metadata": {},
   "outputs": [
    {
     "data": {
      "text/plain": [
       "2"
      ]
     },
     "execution_count": 42,
     "metadata": {},
     "output_type": "execute_result"
    }
   ],
   "source": [
    "g.num_nodes('user') # get the number of users in the bipartite graph"
   ]
  },
  {
   "cell_type": "code",
   "execution_count": 43,
   "metadata": {},
   "outputs": [
    {
     "data": {
      "text/plain": [
       "tensor([0, 1])"
      ]
     },
     "execution_count": 43,
     "metadata": {},
     "output_type": "execute_result"
    }
   ],
   "source": [
    "g.nodes('user')"
   ]
  },
  {
   "attachments": {},
   "cell_type": "markdown",
   "metadata": {},
   "source": [
    "To set/get features for a specific node/edge type, DGL provides two new types of syntax `g.nodes[‘node_type’].data[‘feat_name’]` and `g.edges[‘edge_type’].data[‘feat_name’]`."
   ]
  },
  {
   "cell_type": "code",
   "execution_count": 51,
   "metadata": {},
   "outputs": [],
   "source": [
    "# Set and get features for users \n",
    "g.nodes['user'].data['user_acct'] = th.ones(2,1)\n",
    "g.edges['plays'].data['times_played'] = th.ones(4,1)"
   ]
  },
  {
   "cell_type": "code",
   "execution_count": 52,
   "metadata": {},
   "outputs": [
    {
     "data": {
      "text/plain": [
       "tensor([[1.],\n",
       "        [1.],\n",
       "        [1.],\n",
       "        [1.]])"
      ]
     },
     "execution_count": 52,
     "metadata": {},
     "output_type": "execute_result"
    }
   ],
   "source": [
    "g.edges['plays'].data['times_played'] "
   ]
  },
  {
   "cell_type": "code",
   "execution_count": 49,
   "metadata": {},
   "outputs": [
    {
     "data": {
      "text/plain": [
       "Graph(num_nodes={'game': 3, 'user': 2},\n",
       "      num_edges={('user', 'follows', 'user'): 1, ('user', 'plays', 'game'): 4},\n",
       "      metagraph=[('user', 'user', 'follows'), ('user', 'game', 'plays')])"
      ]
     },
     "execution_count": 49,
     "metadata": {},
     "output_type": "execute_result"
    }
   ],
   "source": [
    "g"
   ]
  },
  {
   "attachments": {},
   "cell_type": "markdown",
   "metadata": {},
   "source": [
    "When the edge type uniquely determines the types of source and destination nodes, one can just use one string instead of a string triplet to specify the edge type. For example, for a heterograph with two relations `('user', 'plays', 'game')` and `('user', 'likes', 'game')`, it is safe to just use '`plays'` or `'likes'` to refer to the two relations."
   ]
  },
  {
   "attachments": {},
   "cell_type": "markdown",
   "metadata": {},
   "source": [
    "### Loading Heterographs from Disk\n",
    "\n",
    "CSVs are commonly used to store heterographs, this is done through storing nodes and edges in different csv files. \n",
    "\n",
    "For Example:\n",
    "/# data folder\n",
    "```\n",
    "data/\n",
    "|-- drug.csv        # drug nodes\n",
    "|-- gene.csv        # gene nodes\n",
    "|-- disease.csv     # disease nodes\n",
    "|-- drug-interact-drug.csv  # drug-drug interaction edges\n",
    "|-- drug-interact-gene.csv  # drug-gene interaction edges\n",
    "|-- drug-treat-disease.csv  # drug-treat-disease edges\n",
    "```"
   ]
  },
  {
   "attachments": {},
   "cell_type": "markdown",
   "metadata": {},
   "source": [
    "Additionally, DGL provides `dgl.save_graphs()` and `dgl.load_graphs()` respectively for saving and loading graphs in binary format. "
   ]
  },
  {
   "cell_type": "code",
   "execution_count": 55,
   "metadata": {},
   "outputs": [
    {
     "data": {
      "text/plain": [
       "Graph(num_nodes={'disease': 3, 'drug': 3},\n",
       "      num_edges={('drug', 'interacts', 'drug'): 2, ('drug', 'treats', 'disease'): 1},\n",
       "      metagraph=[('drug', 'drug', 'interacts'), ('drug', 'disease', 'treats')])"
      ]
     },
     "execution_count": 55,
     "metadata": {},
     "output_type": "execute_result"
    }
   ],
   "source": [
    "g = dgl.heterograph({\n",
    "   ('drug', 'interacts', 'drug'): (th.tensor([0, 1]), th.tensor([1, 2])),\n",
    "   ('drug', 'interacts', 'gene'): (th.tensor([0, 1]), th.tensor([2, 3])),\n",
    "   ('drug', 'treats', 'disease'): (th.tensor([1]), th.tensor([2]))\n",
    "})\n",
    "g.nodes['drug'].data['hv'] = th.ones(3,1)\n",
    "\n",
    "# Retain relations for all nodes for 'drug' and 'disease'\n",
    "eg = dgl.edge_type_subgraph(g, [('drug', 'interacts', 'drug'), \n",
    "                                ('drug', 'treats', 'disease')])\n",
    "eg\n"
   ]
  },
  {
   "cell_type": "code",
   "execution_count": 56,
   "metadata": {},
   "outputs": [
    {
     "data": {
      "text/plain": [
       "tensor([[1.],\n",
       "        [1.],\n",
       "        [1.]])"
      ]
     },
     "execution_count": 56,
     "metadata": {},
     "output_type": "execute_result"
    }
   ],
   "source": [
    "# Make sure the associated features were copied as well\n",
    "eg.nodes['drug'].data['hv']"
   ]
  },
  {
   "attachments": {},
   "cell_type": "markdown",
   "metadata": {},
   "source": [
    "### Converting Heterogenous Graphs to Homogeneous Graphs\n",
    "\n",
    "Heterographs provide an interface for managing nodes/edges of different types and their associated features. This is helpful when:\n",
    "\n",
    "1. The features for nodes/edges of different  data types or sizes. \n",
    "2. We want to apply different operations to nodes/edges of different types. \n"
   ]
  },
  {
   "cell_type": "code",
   "execution_count": 58,
   "metadata": {},
   "outputs": [],
   "source": [
    "g = dgl.heterograph({\n",
    "    ('drug', 'interacts', 'drug'): (th.tensor([0,1]), th.tensor([1,2])),\n",
    "    ('drug', 'treats', 'disease'): (th.tensor([1]), th.tensor([2]))\n",
    "    \n",
    "})\n",
    "g.nodes['drug'].data['hv'] = th.zeros(3,1)\n",
    "g.nodes['disease'].data['hv'] = th.ones(3,1)\n",
    "g.edges['interacts'].data['he'] = th.zeros(2,1)\n",
    "g.edges['treats'].data['he'] = th.zeros(1,2)"
   ]
  },
  {
   "cell_type": "code",
   "execution_count": 59,
   "metadata": {},
   "outputs": [],
   "source": [
    "hg = dgl.to_homogeneous(g) # by default this does not merge features\n"
   ]
  },
  {
   "cell_type": "code",
   "execution_count": 63,
   "metadata": {},
   "outputs": [
    {
     "data": {
      "text/plain": [
       "False"
      ]
     },
     "execution_count": 63,
     "metadata": {},
     "output_type": "execute_result"
    }
   ],
   "source": [
    "'hv' in hg.ndata # we see hv is not in the node data"
   ]
  },
  {
   "cell_type": "code",
   "execution_count": 64,
   "metadata": {},
   "outputs": [
    {
     "data": {
      "text/plain": [
       "Graph(num_nodes={'disease': 3, 'drug': 3},\n",
       "      num_edges={('drug', 'interacts', 'drug'): 2, ('drug', 'treats', 'disease'): 1},\n",
       "      metagraph=[('drug', 'drug', 'interacts'), ('drug', 'disease', 'treats')])"
      ]
     },
     "execution_count": 64,
     "metadata": {},
     "output_type": "execute_result"
    }
   ],
   "source": [
    "g"
   ]
  },
  {
   "cell_type": "code",
   "execution_count": 65,
   "metadata": {},
   "outputs": [
    {
     "ename": "DGLError",
     "evalue": "Cannot concatenate column he with shape Scheme(shape=(2,), dtype=torch.float32) and shape Scheme(shape=(1,), dtype=torch.float32)",
     "output_type": "error",
     "traceback": [
      "\u001b[0;31m---------------------------------------------------------------------------\u001b[0m",
      "\u001b[0;31mDGLError\u001b[0m                                  Traceback (most recent call last)",
      "Cell \u001b[0;32mIn[65], line 3\u001b[0m\n\u001b[1;32m      1\u001b[0m \u001b[39m# Copy the feature edges\u001b[39;00m\n\u001b[1;32m      2\u001b[0m \u001b[39m# For feature copy, DGL expects the features to have the same size and dtype across node/edge types\u001b[39;00m\n\u001b[0;32m----> 3\u001b[0m hg \u001b[39m=\u001b[39m dgl\u001b[39m.\u001b[39;49mto_homogeneous(g, edata\u001b[39m=\u001b[39;49m[\u001b[39m'\u001b[39;49m\u001b[39mhe\u001b[39;49m\u001b[39m'\u001b[39;49m])\n",
      "File \u001b[0;32m~/miniforge3/envs/dgl-env/lib/python3.9/site-packages/dgl/convert.py:1026\u001b[0m, in \u001b[0;36mto_homogeneous\u001b[0;34m(G, ndata, edata, store_type, return_count)\u001b[0m\n\u001b[1;32m   1022\u001b[0m     edata \u001b[39m=\u001b[39m []\n\u001b[1;32m   1023\u001b[0m comb_nf \u001b[39m=\u001b[39m combine_frames(\n\u001b[1;32m   1024\u001b[0m     G\u001b[39m.\u001b[39m_node_frames, \u001b[39mrange\u001b[39m(\u001b[39mlen\u001b[39m(G\u001b[39m.\u001b[39mntypes)), col_names\u001b[39m=\u001b[39mndata\n\u001b[1;32m   1025\u001b[0m )\n\u001b[0;32m-> 1026\u001b[0m comb_ef \u001b[39m=\u001b[39m combine_frames(\n\u001b[1;32m   1027\u001b[0m     G\u001b[39m.\u001b[39;49m_edge_frames, \u001b[39mrange\u001b[39;49m(\u001b[39mlen\u001b[39;49m(G\u001b[39m.\u001b[39;49metypes)), col_names\u001b[39m=\u001b[39;49medata\n\u001b[1;32m   1028\u001b[0m )\n\u001b[1;32m   1029\u001b[0m \u001b[39mif\u001b[39;00m comb_nf \u001b[39mis\u001b[39;00m \u001b[39mnot\u001b[39;00m \u001b[39mNone\u001b[39;00m:\n\u001b[1;32m   1030\u001b[0m     retg\u001b[39m.\u001b[39mndata\u001b[39m.\u001b[39mupdate(comb_nf)\n",
      "File \u001b[0;32m~/miniforge3/envs/dgl-env/lib/python3.9/site-packages/dgl/heterograph.py:6539\u001b[0m, in \u001b[0;36mcombine_frames\u001b[0;34m(frames, ids, col_names)\u001b[0m\n\u001b[1;32m   6537\u001b[0m \u001b[39mif\u001b[39;00m key \u001b[39min\u001b[39;00m frame\u001b[39m.\u001b[39mschemes:\n\u001b[1;32m   6538\u001b[0m     \u001b[39mif\u001b[39;00m frame\u001b[39m.\u001b[39mschemes[key] \u001b[39m!=\u001b[39m scheme:\n\u001b[0;32m-> 6539\u001b[0m         \u001b[39mraise\u001b[39;00m DGLError(\n\u001b[1;32m   6540\u001b[0m             \u001b[39m\"\u001b[39m\u001b[39mCannot concatenate column \u001b[39m\u001b[39m%s\u001b[39;00m\u001b[39m with shape \u001b[39m\u001b[39m%s\u001b[39;00m\u001b[39m and shape \u001b[39m\u001b[39m%s\u001b[39;00m\u001b[39m\"\u001b[39m\n\u001b[1;32m   6541\u001b[0m             \u001b[39m%\u001b[39m (key, frame\u001b[39m.\u001b[39mschemes[key], scheme)\n\u001b[1;32m   6542\u001b[0m         )\n\u001b[1;32m   6543\u001b[0m \u001b[39melse\u001b[39;00m:\n\u001b[1;32m   6544\u001b[0m     \u001b[39mdel\u001b[39;00m schemes[key]\n",
      "\u001b[0;31mDGLError\u001b[0m: Cannot concatenate column he with shape Scheme(shape=(2,), dtype=torch.float32) and shape Scheme(shape=(1,), dtype=torch.float32)"
     ]
    }
   ],
   "source": [
    "# Copy the feature edges\n",
    "# For feature copy, DGL expects the features to have the same size and dtype across node/edge types\n",
    "hg = dgl.to_homogeneous(g, edata=['he'])"
   ]
  },
  {
   "cell_type": "code",
   "execution_count": 68,
   "metadata": {},
   "outputs": [
    {
     "data": {
      "text/plain": [
       "defaultdict(<class 'dict'>, {'hv': {'disease': tensor([[1.],\n",
       "        [1.],\n",
       "        [1.]]), 'drug': tensor([[0.],\n",
       "        [0.],\n",
       "        [0.]])}})"
      ]
     },
     "execution_count": 68,
     "metadata": {},
     "output_type": "execute_result"
    }
   ],
   "source": [
    "g.ndata"
   ]
  },
  {
   "cell_type": "code",
   "execution_count": 66,
   "metadata": {},
   "outputs": [
    {
     "data": {
      "text/plain": [
       "tensor([[1.],\n",
       "        [1.],\n",
       "        [1.],\n",
       "        [0.],\n",
       "        [0.],\n",
       "        [0.]])"
      ]
     },
     "execution_count": 66,
     "metadata": {},
     "output_type": "execute_result"
    }
   ],
   "source": [
    "# Copy the node features \n",
    "# This will run correctly because the shape of the node features is (3,1) and (3,1)\n",
    "hg = dgl.to_homogeneous(g, ndata=['hv'])\n",
    "hg.ndata['hv']"
   ]
  },
  {
   "attachments": {},
   "cell_type": "markdown",
   "metadata": {},
   "source": [
    "The original node/edge types and type specific IDs are stored in `ndata` and `edata`."
   ]
  },
  {
   "cell_type": "code",
   "execution_count": 69,
   "metadata": {},
   "outputs": [
    {
     "data": {
      "text/plain": [
       "['disease', 'drug']"
      ]
     },
     "execution_count": 69,
     "metadata": {},
     "output_type": "execute_result"
    }
   ],
   "source": [
    "# Order of the node types in the heterograph\n",
    "g.ntypes"
   ]
  },
  {
   "cell_type": "code",
   "execution_count": 70,
   "metadata": {},
   "outputs": [
    {
     "data": {
      "text/plain": [
       "tensor([0, 0, 0, 1, 1, 1])"
      ]
     },
     "execution_count": 70,
     "metadata": {},
     "output_type": "execute_result"
    }
   ],
   "source": [
    "# Original node types\n",
    "hg.ndata[dgl.NTYPE]"
   ]
  },
  {
   "cell_type": "code",
   "execution_count": 71,
   "metadata": {},
   "outputs": [
    {
     "data": {
      "text/plain": [
       "tensor([0, 1, 2, 0, 1, 2])"
      ]
     },
     "execution_count": 71,
     "metadata": {},
     "output_type": "execute_result"
    }
   ],
   "source": [
    "# Original type-specific node IDs\n",
    "hg.ndata[dgl.NID]"
   ]
  },
  {
   "cell_type": "code",
   "execution_count": 72,
   "metadata": {},
   "outputs": [
    {
     "data": {
      "text/plain": [
       "['interacts', 'treats']"
      ]
     },
     "execution_count": 72,
     "metadata": {},
     "output_type": "execute_result"
    }
   ],
   "source": [
    "# Order of the edge types in the heterograph \n",
    "g.etypes"
   ]
  },
  {
   "cell_type": "code",
   "execution_count": 74,
   "metadata": {},
   "outputs": [
    {
     "data": {
      "text/plain": [
       "tensor([0, 0, 1])"
      ]
     },
     "execution_count": 74,
     "metadata": {},
     "output_type": "execute_result"
    }
   ],
   "source": [
    "# Original edge types\n",
    "hg.edata[dgl.ETYPE]"
   ]
  },
  {
   "cell_type": "code",
   "execution_count": 75,
   "metadata": {},
   "outputs": [
    {
     "data": {
      "text/plain": [
       "tensor([0, 1, 0])"
      ]
     },
     "execution_count": 75,
     "metadata": {},
     "output_type": "execute_result"
    }
   ],
   "source": [
    "# Original type specific edge IDs\n",
    "hg.edata[dgl.EID]"
   ]
  },
  {
   "attachments": {},
   "cell_type": "markdown",
   "metadata": {},
   "source": [
    "For some modelling tasks we may want to group some relations together and apply the same operation to them. To address this need we can first take an edge type subgraph of the heterograph and then convert the subgraph to a homogeneous graph. "
   ]
  },
  {
   "cell_type": "code",
   "execution_count": 76,
   "metadata": {},
   "outputs": [],
   "source": [
    "g = dgl.heterograph({\n",
    "    ('drug', 'interacts', 'drug'): (th.tensor([0,1]), th.tensor([1,2])),\n",
    "    ('drug', 'interacts', 'gene'): (th.tensor([0,1]), th.tensor([2,3])), \n",
    "    ('drug', 'treats', 'disease'): (th.tensor([1]), th.tensor([2]))\n",
    "})"
   ]
  },
  {
   "cell_type": "code",
   "execution_count": 79,
   "metadata": {},
   "outputs": [],
   "source": [
    "sub_g = dgl.edge_type_subgraph(g, \n",
    "                               [('drug', 'interacts', 'drug'), ('drug', 'interacts', 'gene')])"
   ]
  },
  {
   "cell_type": "code",
   "execution_count": 80,
   "metadata": {},
   "outputs": [
    {
     "data": {
      "text/plain": [
       "Graph(num_nodes=7, num_edges=4,\n",
       "      ndata_schemes={'_ID': Scheme(shape=(), dtype=torch.int64), '_TYPE': Scheme(shape=(), dtype=torch.int64)}\n",
       "      edata_schemes={'_ID': Scheme(shape=(), dtype=torch.int64), '_TYPE': Scheme(shape=(), dtype=torch.int64)})"
      ]
     },
     "execution_count": 80,
     "metadata": {},
     "output_type": "execute_result"
    }
   ],
   "source": [
    "h_sub_g = dgl.to_homogeneous(sub_g)\n",
    "h_sub_g"
   ]
  },
  {
   "attachments": {},
   "cell_type": "markdown",
   "metadata": {},
   "source": [
    "## 1.6 DGLGraph on a GPU\n",
    "\n",
    "TODO\n"
   ]
  },
  {
   "cell_type": "code",
   "execution_count": null,
   "metadata": {},
   "outputs": [],
   "source": []
  }
 ],
 "metadata": {
  "kernelspec": {
   "display_name": "dgl-env",
   "language": "python",
   "name": "python3"
  },
  "language_info": {
   "codemirror_mode": {
    "name": "ipython",
    "version": 3
   },
   "file_extension": ".py",
   "mimetype": "text/x-python",
   "name": "python",
   "nbconvert_exporter": "python",
   "pygments_lexer": "ipython3",
   "version": "3.9.16"
  },
  "orig_nbformat": 4
 },
 "nbformat": 4,
 "nbformat_minor": 2
}
