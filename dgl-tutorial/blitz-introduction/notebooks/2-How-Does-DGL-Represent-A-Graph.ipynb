{
 "cells": [
  {
   "attachments": {},
   "cell_type": "markdown",
   "metadata": {},
   "source": [
    "2-How-Does-DGL-Represent-A-Graph"
   ]
  },
  {
   "cell_type": "code",
   "execution_count": 2,
   "metadata": {},
   "outputs": [],
   "source": [
    "import os\n",
    "os.environ['DGLBACKEND'] = 'pytorch'\n",
    "import numpy as np\n",
    "import torch\n",
    "import dgl"
   ]
  },
  {
   "cell_type": "code",
   "execution_count": 3,
   "metadata": {},
   "outputs": [
    {
     "name": "stderr",
     "output_type": "stream",
     "text": [
      "/home/dloader-ubuntu/.pyenv/versions/3.10.8/lib/python3.10/site-packages/dgl/heterograph.py:72: DGLWarning: Recommend creating graphs by `dgl.graph(data)` instead of `dgl.DGLGraph(data)`.\n",
      "  dgl_warning('Recommend creating graphs by `dgl.graph(data)`'\n",
      "/home/dloader-ubuntu/.pyenv/versions/3.10.8/lib/python3.10/site-packages/dgl/heterograph.py:83: DGLWarning: Keyword arguments ['num_nodes'] are deprecated in v0.5, and can be safely removed in all cases.\n",
      "  dgl_warning('Keyword arguments {} are deprecated in v0.5, and can be safely'\n"
     ]
    }
   ],
   "source": [
    "g = dgl.DGLGraph(([0,0,0,0,0], [1,2,3,4,5]), num_nodes=6)"
   ]
  },
  {
   "cell_type": "code",
   "execution_count": 4,
   "metadata": {},
   "outputs": [],
   "source": [
    "# Defining a graph using PyTorch LongTensor\n",
    "h = dgl.graph((torch.LongTensor([0,0,0,0,0]), torch.LongTensor([1,2,3,4,5])), num_nodes=6)"
   ]
  },
  {
   "cell_type": "code",
   "execution_count": 5,
   "metadata": {},
   "outputs": [
    {
     "name": "stdout",
     "output_type": "stream",
     "text": [
      "(tensor([0, 0, 0, 0, 0]), tensor([1, 2, 3, 4, 5]))\n"
     ]
    }
   ],
   "source": [
    "#\n",
    "print(g.edges())"
   ]
  },
  {
   "attachments": {},
   "cell_type": "markdown",
   "metadata": {},
   "source": [
    " Although the types of node and edge attributes can be arbitrary in real world, DGLGraph only accepts attributes stored in tensors (with numerical contents). Consequently, an attribute of all the nodes or edges must have the same shape. In the context of deep learning, those attributes are often called features."
   ]
  },
  {
   "cell_type": "code",
   "execution_count": 6,
   "metadata": {},
   "outputs": [
    {
     "name": "stdout",
     "output_type": "stream",
     "text": [
      "tensor([[-2.1718, -0.8067,  1.6247,  1.4790],\n",
      "        [ 2.1533,  1.0617,  0.7053, -0.4530],\n",
      "        [ 1.4646,  1.2775,  1.0784,  0.2207],\n",
      "        [ 0.3828,  0.0276, -0.8219,  1.2406],\n",
      "        [-0.3478, -0.1758, -0.6334,  0.0076]])\n"
     ]
    }
   ],
   "source": [
    "# Assign a 3-dim node feature vector for each node\n",
    "g.ndata['x'] = torch.randn(6,3)\n",
    "# Assign a 4-dim edge feature vector for each edge\n",
    "g.edata['a'] = torch.randn(5,4)\n",
    "# Assign a 5x4 node feature matrix for each node. \n",
    "g.ndata['y'] = torch.randn(6,5,4)\n",
    "\n",
    "print(g.edata['a'])"
   ]
  },
  {
   "cell_type": "code",
   "execution_count": 7,
   "metadata": {},
   "outputs": [
    {
     "data": {
      "text/plain": [
       "Graph(num_nodes=6, num_edges=5,\n",
       "      ndata_schemes={'x': Scheme(shape=(3,), dtype=torch.float32), 'y': Scheme(shape=(5, 4), dtype=torch.float32)}\n",
       "      edata_schemes={'a': Scheme(shape=(4,), dtype=torch.float32)})"
      ]
     },
     "execution_count": 7,
     "metadata": {},
     "output_type": "execute_result"
    }
   ],
   "source": [
    "g"
   ]
  },
  {
   "cell_type": "code",
   "execution_count": 8,
   "metadata": {},
   "outputs": [
    {
     "name": "stdout",
     "output_type": "stream",
     "text": [
      "Number of nodes: 6 and number of edges: 5\n"
     ]
    }
   ],
   "source": [
    "# Querying Graph Structures\n",
    "print(f\"Number of nodes: {g.num_nodes()} and number of edges: {g.num_edges()}\")"
   ]
  },
  {
   "cell_type": "code",
   "execution_count": 9,
   "metadata": {},
   "outputs": [
    {
     "name": "stdout",
     "output_type": "stream",
     "text": [
      "Out degree of node 0: 5, In degree of node 0: 0\n"
     ]
    }
   ],
   "source": [
    "print(f\"Out degree of node 0: {g.out_degrees(0)}, In degree of node 0: {g.in_degrees(0)}\")"
   ]
  },
  {
   "cell_type": "code",
   "execution_count": 10,
   "metadata": {},
   "outputs": [],
   "source": [
    "# Graph Transformations (Eg for extracting subgraphs)\n",
    "\n",
    "# Induce a subgraph from node 0, node 1, and node 3 from the original graph, g\n",
    "sg1 = g.subgraph([0, 1, 3])"
   ]
  },
  {
   "cell_type": "code",
   "execution_count": 11,
   "metadata": {},
   "outputs": [
    {
     "data": {
      "text/plain": [
       "Graph(num_nodes=3, num_edges=2,\n",
       "      ndata_schemes={'x': Scheme(shape=(3,), dtype=torch.float32), 'y': Scheme(shape=(5, 4), dtype=torch.float32), '_ID': Scheme(shape=(), dtype=torch.int64)}\n",
       "      edata_schemes={'a': Scheme(shape=(4,), dtype=torch.float32), '_ID': Scheme(shape=(), dtype=torch.int64)})"
      ]
     },
     "execution_count": 11,
     "metadata": {},
     "output_type": "execute_result"
    }
   ],
   "source": [
    "sg1"
   ]
  },
  {
   "cell_type": "code",
   "execution_count": 12,
   "metadata": {},
   "outputs": [],
   "source": [
    "# Induce an edge subgraph from node 0, node 1, and node 3 from the original graph, g\n",
    "sg2 = g.edge_subgraph([0,1,3])"
   ]
  },
  {
   "cell_type": "code",
   "execution_count": 13,
   "metadata": {},
   "outputs": [
    {
     "data": {
      "text/plain": [
       "Graph(num_nodes=4, num_edges=3,\n",
       "      ndata_schemes={'x': Scheme(shape=(3,), dtype=torch.float32), 'y': Scheme(shape=(5, 4), dtype=torch.float32), '_ID': Scheme(shape=(), dtype=torch.int64)}\n",
       "      edata_schemes={'a': Scheme(shape=(4,), dtype=torch.float32), '_ID': Scheme(shape=(), dtype=torch.int64)})"
      ]
     },
     "execution_count": 13,
     "metadata": {},
     "output_type": "execute_result"
    }
   ],
   "source": [
    "sg2"
   ]
  },
  {
   "cell_type": "code",
   "execution_count": 14,
   "metadata": {},
   "outputs": [
    {
     "name": "stdout",
     "output_type": "stream",
     "text": [
      "tensor([0, 1, 3])\n",
      "tensor([0, 2])\n",
      "tensor([0, 1, 2, 4])\n",
      "tensor([0, 1, 3])\n"
     ]
    }
   ],
   "source": [
    "# The original IDs of each node in sg1\n",
    "print(sg1.ndata[dgl.NID])\n",
    "# The original IDs of each edge in sg1\n",
    "print(sg1.edata[dgl.EID])\n",
    "# The original IDs of each node in sg2\n",
    "print(sg2.ndata[dgl.NID])\n",
    "# The original IDs of each edge in sg2\n",
    "print(sg2.edata[dgl.EID])"
   ]
  },
  {
   "cell_type": "code",
   "execution_count": 15,
   "metadata": {},
   "outputs": [
    {
     "name": "stdout",
     "output_type": "stream",
     "text": [
      "tensor([[ 0.3963,  1.1797,  0.2630],\n",
      "        [-1.0089, -0.2861,  0.1708],\n",
      "        [-1.0780,  0.1091, -1.1694]])\n",
      "tensor([[-2.1718, -0.8067,  1.6247,  1.4790],\n",
      "        [ 1.4646,  1.2775,  1.0784,  0.2207]])\n",
      "tensor([[ 0.3963,  1.1797,  0.2630],\n",
      "        [-1.0089, -0.2861,  0.1708],\n",
      "        [ 0.0830,  2.3827,  0.8988],\n",
      "        [ 0.9513,  0.3619, -1.1611]])\n",
      "tensor([[-2.1718, -0.8067,  1.6247,  1.4790],\n",
      "        [ 2.1533,  1.0617,  0.7053, -0.4530],\n",
      "        [ 0.3828,  0.0276, -0.8219,  1.2406]])\n"
     ]
    }
   ],
   "source": [
    "# The original node feature of each node in sg1\n",
    "print(sg1.ndata[\"x\"])\n",
    "# The original edge feature of each node in sg1\n",
    "print(sg1.edata[\"a\"])\n",
    "# The original node feature of each node in sg2\n",
    "print(sg2.ndata[\"x\"])\n",
    "# The original edge feature of each node in sg2\n",
    "print(sg2.edata[\"a\"])"
   ]
  },
  {
   "cell_type": "code",
   "execution_count": 16,
   "metadata": {},
   "outputs": [
    {
     "name": "stdout",
     "output_type": "stream",
     "text": [
      "(tensor([0, 0, 0, 0, 0, 1, 2, 3, 4, 5]), tensor([1, 2, 3, 4, 5, 0, 0, 0, 0, 0]))\n"
     ]
    }
   ],
   "source": [
    "newg = dgl.add_reverse_edges(g)\n",
    "print(newg.edges())"
   ]
  },
  {
   "cell_type": "code",
   "execution_count": 18,
   "metadata": {},
   "outputs": [],
   "source": [
    "# Loading and Saving Graphs\n",
    "dgl.save_graphs(\"../data/graph.dgl\", g)\n",
    "dgl.save_graphs(\"../data/graphs.dgl\", [g, sg1, sg2])"
   ]
  },
  {
   "cell_type": "code",
   "execution_count": 19,
   "metadata": {},
   "outputs": [],
   "source": [
    "# Loading graphs \n",
    "g1 = dgl.load_graphs(\"../data/graph.dgl\")"
   ]
  },
  {
   "cell_type": "code",
   "execution_count": 20,
   "metadata": {},
   "outputs": [
    {
     "data": {
      "text/plain": [
       "([Graph(num_nodes=6, num_edges=5,\n",
       "        ndata_schemes={'y': Scheme(shape=(5, 4), dtype=torch.float32), 'x': Scheme(shape=(3,), dtype=torch.float32)}\n",
       "        edata_schemes={'a': Scheme(shape=(4,), dtype=torch.float32)})],\n",
       " {})"
      ]
     },
     "execution_count": 20,
     "metadata": {},
     "output_type": "execute_result"
    }
   ],
   "source": [
    "g1"
   ]
  },
  {
   "cell_type": "code",
   "execution_count": 24,
   "metadata": {},
   "outputs": [],
   "source": [
    "# Loads graphs as tuple of graphs and dict of labels. In this case the label dict is empty\n",
    "(g2, sg3, sg4), _ = dgl.load_graphs(\"../data/graphs.dgl\")"
   ]
  },
  {
   "cell_type": "code",
   "execution_count": 26,
   "metadata": {},
   "outputs": [
    {
     "data": {
      "text/plain": [
       "Graph(num_nodes=6, num_edges=5,\n",
       "      ndata_schemes={'y': Scheme(shape=(5, 4), dtype=torch.float32), 'x': Scheme(shape=(3,), dtype=torch.float32)}\n",
       "      edata_schemes={'a': Scheme(shape=(4,), dtype=torch.float32)})"
      ]
     },
     "execution_count": 26,
     "metadata": {},
     "output_type": "execute_result"
    }
   ],
   "source": [
    "g2"
   ]
  },
  {
   "cell_type": "code",
   "execution_count": null,
   "metadata": {},
   "outputs": [],
   "source": []
  }
 ],
 "metadata": {
  "kernelspec": {
   "display_name": "Python 3",
   "language": "python",
   "name": "python3"
  },
  "language_info": {
   "codemirror_mode": {
    "name": "ipython",
    "version": 3
   },
   "file_extension": ".py",
   "mimetype": "text/x-python",
   "name": "python",
   "nbconvert_exporter": "python",
   "pygments_lexer": "ipython3",
   "version": "3.10.8"
  },
  "orig_nbformat": 4
 },
 "nbformat": 4,
 "nbformat_minor": 2
}
