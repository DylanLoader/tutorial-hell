{
 "cells": [
  {
   "attachments": {},
   "cell_type": "markdown",
   "metadata": {},
   "source": [
    "# Tutorial 3: Write Your Own GNN Module\n",
    "Source: https://docs.dgl.ai/tutorials/blitz/3_message_passing.html"
   ]
  },
  {
   "cell_type": "code",
   "execution_count": 2,
   "metadata": {},
   "outputs": [],
   "source": [
    "# Import \n",
    "import os\n",
    "os.environ['DGLBACKEND'] = 'pytorch'\n",
    "import torch\n",
    "import torch.nn as nn\n",
    "import torch.nn.functional as F\n",
    "\n",
    "import dgl\n",
    "import dgl.function as fn"
   ]
  },
  {
   "attachments": {},
   "cell_type": "markdown",
   "metadata": {},
   "source": [
    "## Message Passing and GNNs\n",
    "\n",
    "Message passing framework:\n",
    "\n",
    "$m_{u \\rightarrow v}^{(l)} = M^{(l)}(h_v^{(l-1)}, h_u^{(l-1)}, e_{u \\rightarrow v}^{(l-1)})$\n",
    "\n",
    "$m_v^{(l)} = \\sum_{u \\in \\mathcal{N}(v)} m_{u \\to v}^{(l)}$\n",
    "\n",
    "$h_v^{(l)} = U^{l} ( h_v^{(l-1)}, m_v^{(l)} )$\n",
    "\n",
    "Where $M^{(l)}$ is the message function, $\\sum$ is the reduce function (not necessarily a summation) and $U^{(l)}$ is the update function."
   ]
  },
  {
   "attachments": {},
   "cell_type": "markdown",
   "metadata": {},
   "source": [
    "In this tutorial we create the $\\sum$ reduce function to be the GraphSAGE Convolution as follows:\n",
    "\n",
    "$h_{\\mathcal{N}(v)}^k \\leftarrow Average\\{h_{u}^{k-1}, \\forall u \\in \\mathcal{N}(v)\\}$\n",
    "\n",
    "$h_v^k \\leftarrow ReLU (W^k \\cdot CONCAT(h_v^{k-1}, h_{\\mathcal{N}(v)}^k)$"
   ]
  },
  {
   "cell_type": "code",
   "execution_count": 16,
   "metadata": {},
   "outputs": [],
   "source": [
    "class SAGEConv(nn.Module):\n",
    "    def __init__(self, in_feat, out_feat):\n",
    "        super(SAGEConv, self).__init__()\n",
    "        # A linear submodule to transform the input and neighbor features to the output.\n",
    "        self.linear = nn.Linear(in_feat * 2, out_feat)\n",
    "        \n",
    "    def forward(self, g, h):\n",
    "        with g.local_scope():\n",
    "            g.ndata['h'] = h\n",
    "            # Gathers and averages the neighborhood features. Update all triggers this for all nodes and edges.\n",
    "            g.update_all(\n",
    "                # Copies the node feature under name 'h' as messages under name 'm' which is sent to neighbors.\n",
    "                message_func=fn.copy_u(\"h\", \"m\"),\n",
    "                # Averages all the received messages under name 'm' and stores the result under name 'h_N'.\n",
    "                reduce_func=fn.mean(\"m\", \"h_N\"),\n",
    "            )\n",
    "            h_N = g.ndata[\"h_N\"]\n",
    "            h_total = torch.cat([h, h_N], dim=1)\n",
    "            return self.linear(h_total)"
   ]
  },
  {
   "cell_type": "code",
   "execution_count": 17,
   "metadata": {},
   "outputs": [],
   "source": [
    "class Model(nn.Module):\n",
    "    def __init__(self, in_feats, h_feats, num_classes):\n",
    "        super(Model, self).__init__()\n",
    "        self.conv1 = SAGEConv(in_feats, h_feats)\n",
    "        self.conv2 = SAGEConv(h_feats, num_classes)\n",
    "        \n",
    "    def forward(self, g, in_feat):\n",
    "        h = self.conv1(g, in_feat)\n",
    "        h = F.relu(h)\n",
    "        h = self.conv2(g, h)\n",
    "        return h\n",
    "    \n",
    "    "
   ]
  },
  {
   "attachments": {},
   "cell_type": "markdown",
   "metadata": {},
   "source": [
    "## Training Loop"
   ]
  },
  {
   "cell_type": "code",
   "execution_count": 18,
   "metadata": {},
   "outputs": [
    {
     "name": "stdout",
     "output_type": "stream",
     "text": [
      "  NumNodes: 2708\n",
      "  NumEdges: 10556\n",
      "  NumFeats: 1433\n",
      "  NumClasses: 7\n",
      "  NumTrainingSamples: 140\n",
      "  NumValidationSamples: 500\n",
      "  NumTestSamples: 1000\n",
      "Done loading data from cached files.\n"
     ]
    }
   ],
   "source": [
    "import dgl.data\n",
    "\n",
    "dataset = dgl.data.CoraGraphDataset()\n",
    "g = dataset[0]\n"
   ]
  },
  {
   "cell_type": "code",
   "execution_count": 23,
   "metadata": {},
   "outputs": [],
   "source": [
    "\n",
    "def train(g, model):\n",
    "    optimizer = torch.optim.Adam(model.parameters(), lr=0.01)\n",
    "    all_logits = []\n",
    "    best_val_acc = 0\n",
    "    best_test_acc = 0\n",
    "    \n",
    "    features = g.ndata['feat']\n",
    "    labels = g.ndata['label']\n",
    "    train_mask = g.ndata['train_mask']\n",
    "    val_mask = g.ndata['val_mask']\n",
    "    test_mask = g.ndata['test_mask']\n",
    "    for e in range(200):\n",
    "        # Forward pass\n",
    "        logits = model(g, features)\n",
    "        \n",
    "        # Compute prediction\n",
    "        pred = logits.argmax(1)\n",
    "        \n",
    "        # Compute loss\n",
    "        # Only computes the loss for the nodes in the training set.\n",
    "        loss = F.cross_entropy(logits[train_mask], labels[train_mask])\n",
    "        \n",
    "        # Compute train/val/test accuracy\n",
    "        train_acc = (pred[train_mask] == labels[train_mask]).float().mean()\n",
    "        val_acc = (pred[val_mask] == labels[val_mask]).float().mean()\n",
    "        test_acc = (pred[test_mask] == labels[test_mask]).float().mean()\n",
    "        \n",
    "        # Save the best validation accuracy and the corresponding test accuracy\n",
    "        if best_val_acc < val_acc:\n",
    "            best_val_acc = val_acc\n",
    "            best_test_acc = test_acc\n",
    "            \n",
    "        # Backward pass\n",
    "        optimizer.zero_grad()\n",
    "        loss.backward()\n",
    "        optimizer.step()\n",
    "        all_logits.append(logits.detach())\n",
    "        \n",
    "        if e % 5 == 0:\n",
    "            print(f\"In epoch {e}, loss: {loss:.4f}, val acc: {val_acc:.4f} (Best:{best_val_acc:.4f}), test acc: {test_acc:.4f} (Best:{best_test_acc:.4f})\")\n",
    "        "
   ]
  },
  {
   "cell_type": "code",
   "execution_count": 24,
   "metadata": {},
   "outputs": [
    {
     "name": "stdout",
     "output_type": "stream",
     "text": [
      "In epoch 0, loss: 1.9536, val acc: 0.1220 (Best:0.1220), test acc: 0.1310 (Best:0.1310)\n",
      "In epoch 5, loss: 1.8741, val acc: 0.2100 (Best:0.2100), test acc: 0.2290 (Best:0.2290)\n",
      "In epoch 10, loss: 1.7257, val acc: 0.3740 (Best:0.3740), test acc: 0.3730 (Best:0.3730)\n",
      "In epoch 15, loss: 1.5059, val acc: 0.4040 (Best:0.4040), test acc: 0.4020 (Best:0.4020)\n",
      "In epoch 20, loss: 1.2276, val acc: 0.5100 (Best:0.5100), test acc: 0.4850 (Best:0.4850)\n",
      "In epoch 25, loss: 0.9225, val acc: 0.6260 (Best:0.6260), test acc: 0.5880 (Best:0.5880)\n",
      "In epoch 30, loss: 0.6331, val acc: 0.7120 (Best:0.7120), test acc: 0.6840 (Best:0.6840)\n",
      "In epoch 35, loss: 0.3999, val acc: 0.7440 (Best:0.7440), test acc: 0.7450 (Best:0.7450)\n",
      "In epoch 40, loss: 0.2390, val acc: 0.7560 (Best:0.7560), test acc: 0.7540 (Best:0.7540)\n",
      "In epoch 45, loss: 0.1398, val acc: 0.7580 (Best:0.7580), test acc: 0.7590 (Best:0.7590)\n",
      "In epoch 50, loss: 0.0832, val acc: 0.7640 (Best:0.7640), test acc: 0.7560 (Best:0.7560)\n",
      "In epoch 55, loss: 0.0522, val acc: 0.7660 (Best:0.7660), test acc: 0.7600 (Best:0.7600)\n",
      "In epoch 60, loss: 0.0350, val acc: 0.7660 (Best:0.7660), test acc: 0.7590 (Best:0.7600)\n",
      "In epoch 65, loss: 0.0251, val acc: 0.7600 (Best:0.7660), test acc: 0.7600 (Best:0.7600)\n",
      "In epoch 70, loss: 0.0192, val acc: 0.7600 (Best:0.7660), test acc: 0.7650 (Best:0.7600)\n",
      "In epoch 75, loss: 0.0155, val acc: 0.7600 (Best:0.7660), test acc: 0.7670 (Best:0.7600)\n",
      "In epoch 80, loss: 0.0130, val acc: 0.7560 (Best:0.7660), test acc: 0.7650 (Best:0.7600)\n",
      "In epoch 85, loss: 0.0112, val acc: 0.7560 (Best:0.7660), test acc: 0.7650 (Best:0.7600)\n",
      "In epoch 90, loss: 0.0099, val acc: 0.7540 (Best:0.7660), test acc: 0.7650 (Best:0.7600)\n",
      "In epoch 95, loss: 0.0089, val acc: 0.7540 (Best:0.7660), test acc: 0.7630 (Best:0.7600)\n",
      "In epoch 100, loss: 0.0081, val acc: 0.7580 (Best:0.7660), test acc: 0.7620 (Best:0.7600)\n",
      "In epoch 105, loss: 0.0074, val acc: 0.7580 (Best:0.7660), test acc: 0.7610 (Best:0.7600)\n",
      "In epoch 110, loss: 0.0068, val acc: 0.7580 (Best:0.7660), test acc: 0.7610 (Best:0.7600)\n",
      "In epoch 115, loss: 0.0063, val acc: 0.7580 (Best:0.7660), test acc: 0.7610 (Best:0.7600)\n",
      "In epoch 120, loss: 0.0059, val acc: 0.7580 (Best:0.7660), test acc: 0.7620 (Best:0.7600)\n",
      "In epoch 125, loss: 0.0055, val acc: 0.7580 (Best:0.7660), test acc: 0.7620 (Best:0.7600)\n",
      "In epoch 130, loss: 0.0052, val acc: 0.7600 (Best:0.7660), test acc: 0.7630 (Best:0.7600)\n",
      "In epoch 135, loss: 0.0049, val acc: 0.7600 (Best:0.7660), test acc: 0.7630 (Best:0.7600)\n",
      "In epoch 140, loss: 0.0046, val acc: 0.7580 (Best:0.7660), test acc: 0.7630 (Best:0.7600)\n",
      "In epoch 145, loss: 0.0043, val acc: 0.7580 (Best:0.7660), test acc: 0.7630 (Best:0.7600)\n",
      "In epoch 150, loss: 0.0041, val acc: 0.7580 (Best:0.7660), test acc: 0.7620 (Best:0.7600)\n",
      "In epoch 155, loss: 0.0039, val acc: 0.7600 (Best:0.7660), test acc: 0.7620 (Best:0.7600)\n",
      "In epoch 160, loss: 0.0037, val acc: 0.7600 (Best:0.7660), test acc: 0.7620 (Best:0.7600)\n",
      "In epoch 165, loss: 0.0035, val acc: 0.7620 (Best:0.7660), test acc: 0.7620 (Best:0.7600)\n",
      "In epoch 170, loss: 0.0033, val acc: 0.7620 (Best:0.7660), test acc: 0.7620 (Best:0.7600)\n",
      "In epoch 175, loss: 0.0032, val acc: 0.7620 (Best:0.7660), test acc: 0.7620 (Best:0.7600)\n",
      "In epoch 180, loss: 0.0030, val acc: 0.7620 (Best:0.7660), test acc: 0.7620 (Best:0.7600)\n",
      "In epoch 185, loss: 0.0029, val acc: 0.7620 (Best:0.7660), test acc: 0.7630 (Best:0.7600)\n",
      "In epoch 190, loss: 0.0028, val acc: 0.7620 (Best:0.7660), test acc: 0.7620 (Best:0.7600)\n",
      "In epoch 195, loss: 0.0027, val acc: 0.7620 (Best:0.7660), test acc: 0.7620 (Best:0.7600)\n"
     ]
    }
   ],
   "source": [
    "model = Model(g.ndata['feat'].shape[1], 16, dataset.num_classes)\n",
    "train(g, model)"
   ]
  },
  {
   "cell_type": "code",
   "execution_count": 25,
   "metadata": {},
   "outputs": [],
   "source": [
    "class WeightedSAGEConv(nn.Module):\n",
    "    def __init__(self, in_feat, out_feat):\n",
    "        super(WeightedSAGEConv, self).__init__()\n",
    "        self.linear = nn.Linear(in_feat * 2, out_feat)\n",
    "        \n",
    "    def forward(self, g, h, w):\n",
    "        with g.local_scope():\n",
    "            g.ndata['h'] = h\n",
    "            g.edata['w'] = w\n",
    "            g.update_all(\n",
    "                message_func=fn.u_mul_e(\"h\", \"w\", \"m\"),\n",
    "                reduce_func=fn.mean(\"m\", \"h_N\"),\n",
    "            )\n",
    "            h_N = g.ndata[\"h_N\"]\n",
    "            h_total = torch.cat([h, h_N], dim=1)\n",
    "            return self.linear(h_total)"
   ]
  },
  {
   "cell_type": "code",
   "execution_count": 28,
   "metadata": {},
   "outputs": [
    {
     "name": "stdout",
     "output_type": "stream",
     "text": [
      "In epoch 0, loss: 1.9566, val acc: 0.0680 (Best:0.0680), test acc: 0.0990 (Best:0.0990)\n",
      "In epoch 5, loss: 1.8758, val acc: 0.1640 (Best:0.1640), test acc: 0.1900 (Best:0.1900)\n",
      "In epoch 10, loss: 1.7223, val acc: 0.4900 (Best:0.4900), test acc: 0.4800 (Best:0.4800)\n",
      "In epoch 15, loss: 1.4957, val acc: 0.4980 (Best:0.4980), test acc: 0.4970 (Best:0.4970)\n",
      "In epoch 20, loss: 1.2033, val acc: 0.6080 (Best:0.6080), test acc: 0.6040 (Best:0.6040)\n",
      "In epoch 25, loss: 0.8792, val acc: 0.6820 (Best:0.6820), test acc: 0.6670 (Best:0.6670)\n",
      "In epoch 30, loss: 0.5754, val acc: 0.7320 (Best:0.7320), test acc: 0.7200 (Best:0.7200)\n",
      "In epoch 35, loss: 0.3410, val acc: 0.7580 (Best:0.7580), test acc: 0.7340 (Best:0.7340)\n",
      "In epoch 40, loss: 0.1916, val acc: 0.7720 (Best:0.7720), test acc: 0.7570 (Best:0.7520)\n",
      "In epoch 45, loss: 0.1080, val acc: 0.7740 (Best:0.7740), test acc: 0.7650 (Best:0.7590)\n",
      "In epoch 50, loss: 0.0636, val acc: 0.7700 (Best:0.7740), test acc: 0.7700 (Best:0.7590)\n",
      "In epoch 55, loss: 0.0401, val acc: 0.7660 (Best:0.7740), test acc: 0.7690 (Best:0.7590)\n",
      "In epoch 60, loss: 0.0273, val acc: 0.7640 (Best:0.7740), test acc: 0.7700 (Best:0.7590)\n",
      "In epoch 65, loss: 0.0201, val acc: 0.7620 (Best:0.7740), test acc: 0.7700 (Best:0.7590)\n",
      "In epoch 70, loss: 0.0156, val acc: 0.7600 (Best:0.7740), test acc: 0.7710 (Best:0.7590)\n",
      "In epoch 75, loss: 0.0128, val acc: 0.7600 (Best:0.7740), test acc: 0.7720 (Best:0.7590)\n",
      "In epoch 80, loss: 0.0108, val acc: 0.7580 (Best:0.7740), test acc: 0.7740 (Best:0.7590)\n",
      "In epoch 85, loss: 0.0094, val acc: 0.7560 (Best:0.7740), test acc: 0.7730 (Best:0.7590)\n",
      "In epoch 90, loss: 0.0084, val acc: 0.7540 (Best:0.7740), test acc: 0.7760 (Best:0.7590)\n",
      "In epoch 95, loss: 0.0076, val acc: 0.7520 (Best:0.7740), test acc: 0.7770 (Best:0.7590)\n",
      "In epoch 100, loss: 0.0069, val acc: 0.7540 (Best:0.7740), test acc: 0.7760 (Best:0.7590)\n",
      "In epoch 105, loss: 0.0063, val acc: 0.7520 (Best:0.7740), test acc: 0.7770 (Best:0.7590)\n",
      "In epoch 110, loss: 0.0059, val acc: 0.7520 (Best:0.7740), test acc: 0.7780 (Best:0.7590)\n",
      "In epoch 115, loss: 0.0054, val acc: 0.7540 (Best:0.7740), test acc: 0.7770 (Best:0.7590)\n",
      "In epoch 120, loss: 0.0051, val acc: 0.7540 (Best:0.7740), test acc: 0.7770 (Best:0.7590)\n",
      "In epoch 125, loss: 0.0048, val acc: 0.7540 (Best:0.7740), test acc: 0.7770 (Best:0.7590)\n",
      "In epoch 130, loss: 0.0045, val acc: 0.7560 (Best:0.7740), test acc: 0.7760 (Best:0.7590)\n",
      "In epoch 135, loss: 0.0042, val acc: 0.7560 (Best:0.7740), test acc: 0.7760 (Best:0.7590)\n",
      "In epoch 140, loss: 0.0040, val acc: 0.7560 (Best:0.7740), test acc: 0.7760 (Best:0.7590)\n",
      "In epoch 145, loss: 0.0038, val acc: 0.7560 (Best:0.7740), test acc: 0.7760 (Best:0.7590)\n",
      "In epoch 150, loss: 0.0036, val acc: 0.7560 (Best:0.7740), test acc: 0.7750 (Best:0.7590)\n",
      "In epoch 155, loss: 0.0034, val acc: 0.7560 (Best:0.7740), test acc: 0.7750 (Best:0.7590)\n",
      "In epoch 160, loss: 0.0032, val acc: 0.7560 (Best:0.7740), test acc: 0.7750 (Best:0.7590)\n",
      "In epoch 165, loss: 0.0031, val acc: 0.7560 (Best:0.7740), test acc: 0.7750 (Best:0.7590)\n",
      "In epoch 170, loss: 0.0029, val acc: 0.7560 (Best:0.7740), test acc: 0.7750 (Best:0.7590)\n",
      "In epoch 175, loss: 0.0028, val acc: 0.7560 (Best:0.7740), test acc: 0.7750 (Best:0.7590)\n",
      "In epoch 180, loss: 0.0027, val acc: 0.7560 (Best:0.7740), test acc: 0.7750 (Best:0.7590)\n",
      "In epoch 185, loss: 0.0025, val acc: 0.7560 (Best:0.7740), test acc: 0.7740 (Best:0.7590)\n",
      "In epoch 190, loss: 0.0024, val acc: 0.7560 (Best:0.7740), test acc: 0.7750 (Best:0.7590)\n",
      "In epoch 195, loss: 0.0023, val acc: 0.7580 (Best:0.7740), test acc: 0.7760 (Best:0.7590)\n"
     ]
    }
   ],
   "source": [
    "class Model(nn.Module):\n",
    "    def __init__(self, in_feats, h_feats, num_classes):\n",
    "        super(Model, self).__init__()\n",
    "        self.conv1 = WeightedSAGEConv(in_feats, h_feats)\n",
    "        self.conv2 = WeightedSAGEConv(h_feats, num_classes)\n",
    "        \n",
    "    def forward(self, g, in_feat):\n",
    "        h = self.conv1(g, in_feat, torch.ones(g.num_edges(),1).to(g.device))\n",
    "        h = F.relu(h)\n",
    "        h = self.conv2(g, h, torch.ones(g.num_edges(),1).to(g.device))\n",
    "        return h\n",
    "\n",
    "model = Model(g.ndata['feat'].shape[1], 16, dataset.num_classes)\n",
    "train(g, model)"
   ]
  },
  {
   "cell_type": "code",
   "execution_count": null,
   "metadata": {},
   "outputs": [],
   "source": []
  }
 ],
 "metadata": {
  "kernelspec": {
   "display_name": "dgl-tutorial-env",
   "language": "python",
   "name": "python3"
  },
  "language_info": {
   "codemirror_mode": {
    "name": "ipython",
    "version": 3
   },
   "file_extension": ".py",
   "mimetype": "text/x-python",
   "name": "python",
   "nbconvert_exporter": "python",
   "pygments_lexer": "ipython3",
   "version": "3.11.0"
  },
  "orig_nbformat": 4
 },
 "nbformat": 4,
 "nbformat_minor": 2
}
