{
 "cells": [
  {
   "attachments": {},
   "cell_type": "markdown",
   "metadata": {},
   "source": [
    "# ProfessionalsPoint Interview Questions\n",
    "\n",
    "Source: http://theprofessionalspoint.blogspot.com/2019/01/100-basic-machine-learning-interview.html"
   ]
  },
  {
   "attachments": {},
   "cell_type": "markdown",
   "metadata": {},
   "source": [
    "## 1. Basic Introduction\n",
    "\n",
    "\n",
    "1. What is Machine Learning? What are its various applications? Why is Machine Learning gaining so much attraction now-a-days?\n",
    "\n",
    "Machine learning is the process of programming that allows machines to learn from data to make predictions without explicit input from the user. \n",
    "\n",
    "2. What is the difference between Artificial Intelligence, Machine Learning and Deep Learning?\n",
    "\n",
    "AI >> ML >> DL\n",
    "\n",
    "3. What are various types of Machine Learning? What is Supervised Learning, Unsupervised Learning, Semi-supervised Learning and Reinforcement Learning? Give some examples of these types of Machine Learning.\n",
    "\n",
    "Pass. \n",
    "\n",
    "4. Explain Deep Learning and Neural Networks.\n",
    "\n",
    "A neural network is an architecture composed of inputs, weights, bias/threshold, and output. A deep neural network contains more hidden layers than the one of a simple neural network.\n",
    "\n",
    "5. What is the difference between Data Mining and Machine Learning\n",
    "\n",
    "Data Mining is the application of rules based approaches to learning from data. Data Mining is much more 'human in the loop' focused and examines the corpus of currently available data to draw inferences instead of being focused on prediction. Machine Learning is the application of algorithms to data in a 'human out of the loop' manner such that the algorithms applied to training data extract meaning from existing data without rules or explicit human intervention to make predictions. \n",
    "\n",
    "6. What is the difference between Inductive and Deductive Machine Learning?\n",
    "\n",
    "Inductive ML takes input data and output data and \n",
    "\n",
    "7. What are the various steps involved in a Machine Learning Process?\n",
    "\n",
    "In a machine learning process we should: \n",
    "i. Design a hypothesis to test that tells us something about the process we're interested in understanding. \n",
    "ii. Gather data or find sufficient datasets that will allow us to answer the question formed in our hypothesis. \n",
    "iii. Perform exploratory data analysis and preprocessing. This includes spliting our available data so that our test and validation data do not influence model choice or exploration. \n",
    "iv. Choosing a model. Based on the EDA, preprocessing and our hypothesis we chose a model architecture that should allow us to handle the task at hand. \n",
    "v. Training the model. We use the training data to learn model parameters directly. Here we can use the validation dataset to tune hyperparameters. This is important as a sub-optimal model may actually be the optimal model once the hyper-parameters are tuned. \n",
    "vi. Model Evaluation. Once the model has been trained and tuned on the training and validation datasets respectively, we apply the final model to the test data to see what the performance to see if the model functions well out of sample. If there is an existing implementation this allows us to compare the proposed model to any existing models. "
   ]
  },
  {
   "attachments": {},
   "cell_type": "markdown",
   "metadata": {},
   "source": [
    "## 2. Data Exploration and Visualization\n",
    "\n",
    "1. What is Hypothesis Generation? What is the difference between Null Hypothesis (Ho) and Alternate Hypothesis (Ha)?\n",
    "\n",
    "2. What is Univariate, Bivariate and Multivariate Data Exploration?\n",
    "\n",
    "3. Explain various plots and grids available for data exploration in seaborn and matplotlib libraries? \n",
    "\n",
    "Joint Plot, Distribution Plot, Box Plot, Bar Plot, Regression Plot, Strip Plot, Heatmap, Violin Plot, Pair Plot and Grid, Facet Grid\n",
    "\n",
    "4. How will you visualize missing values, outliers, skewed data and correlations using plots and grids? "
   ]
  },
  {
   "attachments": {},
   "cell_type": "markdown",
   "metadata": {},
   "source": [
    "## 3. Data Preprocessing and Wrangling\n",
    "\n",
    "1. What is the difference between Data Processing, Data Preprocessing and Data Wrangling?\n",
    "\n",
    "\n",
    "2. What is Data Wrangling? What are the various steps involved in Data Wrangling?\n",
    "\n",
    "\n",
    "3. What is the difference between Labeled and Unlabeled data?\n",
    "\n",
    "4. What do you mean by Features and Labels in the dataset? \n",
    "\n",
    "5. What are the Independent / Explanatory and Dependent variables? \n",
    "\n",
    "6. What is the difference between Continuous and Categorical / Discrete variables?\n",
    "\n",
    "7. What do you mean by Noise in the dataset? How to remove it?\n",
    "\n",
    "8. What are Skewed Variables and Outliers in the dataset? What are the various ways to visualize and remove these? What do you mean by log transformation of skewed variables?\n",
    "\n",
    "9. What are the various ways to handle missing and invalid data in a dataset? What is Imputer?\n",
    "\n",
    "10. What is the difference between Mean, Median and Mode? How are these terms used to impute missing values in numeric variables?\n",
    "\n",
    "11. How will you calculate Mean, Variance and Standard Deviation of a feature / variable in a given dataset? What is the formula? \n",
    "\n",
    "12. How will you convert categorical variables into dummies?\n",
    "\n",
    "13. What is Binning Technique? What is the difference between Fixed Width Binning and Adaptive Binning?\n",
    "\n",
    "14. What is Feature Scaling? What is the difference between Normalization and Standardization?\n",
    "\n",
    "15. Which Machine Learning Algorithms require Feature Scaling (Standardization and Normalization) and which not? \n",
    "\n",
    "16. What do you mean by Imbalanced Datasheet? How will you handle it?\n",
    "\n",
    "17. What is the difference between \"Training\" dataset and \"Test\" dataset? What are the common ratios we generally maintain between them?\n",
    "\n",
    "18. What is the difference between Validation set and Test set?\n",
    "\n",
    "19. What do you understand by Fourier Transform? How is it used in Machine Learning?\n",
    "\n"
   ]
  },
  {
   "attachments": {},
   "cell_type": "markdown",
   "metadata": {},
   "source": [
    "## 4. Dimensionality Reduction\n",
    "\n",
    "1. What is Multicollinearity? What is the difference between Covariance and Correlation? How are these terms related with each other?\n",
    "\n",
    "2. Feature Selection and Feature Extraction\n",
    "\n",
    "- What do you mean by Curse of Dimensionality? How to deal with it? \n",
    "\n",
    "- What is Dimension Reduction in Machine Learning? Why is it required? Answer\n",
    "\n",
    "- What is the difference between Feature Selection and Feature Extraction? \n",
    "\n",
    "- What are the various Dimensionality Reduction Techniques?\n",
    "\n",
    "3. What is Factor Analysis? What is the difference between Exploratory and Confirmatory Factor Analysis\n",
    "\n",
    "4. Principal Component Analysis\n",
    "\n",
    "- What is Principal Component Analysis (PCA)?\n",
    "- How do we find Principal Components through Projections and Rotations?\n",
    "- How will you find your first Principal Component (PC1) using SVD?\n",
    "- What is Singular Vector or Eigenvector? What do you mean by Eigenvalue and Singular Value? How will you calculate it?\n",
    "- What do you mean by Loading Score? How will you calculate it?\n",
    "- \"Principal Component is a linear combination of existing features.\" Illustrate this statement. \n",
    "- How will you find your second Principal Component (PC2) once you have discovered your first Principal Component (PC1)?\n",
    "- How will you calculate the variation for each Principal Component? \n",
    "- What is Scree Plot? How is it useful? \n",
    "- How many Principal Components can you draw for a given sample dataset?\n",
    "- Why is PC1 more important than PC2 and so on?\n",
    "- What are the advantages and disadvantages of PCA?\n",
    "\n",
    "5. What is SVD (Singular Value Decomposition)?\n",
    "\n",
    "6. Linear Discriminant Analysis\n",
    "\n",
    "- What is LDA (Linear Discriminant Analysis)? \n",
    "- How does LDA create a new axis by maximizing the distance between means and minimizing the scatter? What is the formula? \n",
    "- What are the similarities and differences between LDA and PCA (Principal Component Analysis)?\n",
    "\n",
    "7. Multi-Dimensional Scaling\n",
    "\n",
    "- What is Multi-Dimensional Scaling? \n",
    "- What is the difference between \"Metric\" and \"Non-metric\" MDS? \n",
    "- What is PCoA (Principal Coordinate Analysis)? \n",
    "- Why should we not use Euclidean Distance in MDS to calculate the distance between variables? \n",
    "- How is Log Fold Change used to calculate the distance between two variables in MDS? \n",
    "- What are the similarities and differences between MDS and PCA (Principal Component Analysis)? \n",
    "- How is it helpful in Dimensionality Reduction?\n",
    "\n",
    "8. t-SNE (t-Distributed Stochastic Neighbor Embedding)\n",
    "\n",
    "    - What is t-SNE (t-Distributed Stochastic Neighbor Embedding)? Answer\n",
    "    - Define the terms: Normal Distribution, t-Distribution, Similarity Score, Perplexity\n",
    "    - Why is it called t-SNE instead of simple SNE? Why is t-Distribution used instead of normal distribution in lower dimension?\n",
    "    - Why should t-SNE not be used in larger datasets containing thousands of features? When should we use combination of both PCA and t-SNE?\n",
    "    - What are the advantages and disadvantages of t-SNE over PCA? Answer\n",
    "\n",
    "9. What is ICA (Independent Component Analysis)?\n",
    "\n",
    "\n"
   ]
  },
  {
   "attachments": {},
   "cell_type": "markdown",
   "metadata": {},
   "source": [
    "## 5. Algorithms"
   ]
  },
  {
   "attachments": {},
   "cell_type": "markdown",
   "metadata": {},
   "source": [
    "### 5.1 Types of ML Algorithms\n",
    "\n",
    "\n",
    "- What are the various types of Machine Learning Algorithms? \n",
    "- Name various algorithms for Supervised Learning, Unsupervised Learning and Reinforcement Learning. \n",
    "\n",
    "Covered below, several answers to these questions. \n",
    "\n"
   ]
  },
  {
   "attachments": {},
   "cell_type": "markdown",
   "metadata": {},
   "source": [
    "### 5.2 Supervised Learning \n",
    "\n",
    "\n",
    "- What are the various Supervised Learning techniques? \n",
    "- Name various Classification and Regression algorithms. \n",
    "\n",
    "The above 2 questions are vague/general knowledge.\n",
    "\n",
    "- What is the difference between Classification and Regression algorithms? \n",
    "\n",
    "Classification problems involve predicting labels that are discrete and regression problems work on predicting values that exist on the real number line.\n"
   ]
  },
  {
   "attachments": {},
   "cell_type": "markdown",
   "metadata": {},
   "source": [
    "### 5.3 Unsupervised Learning\n",
    "\n",
    "\n",
    "- What is the difference between Clustering and Association algorithms? \n",
    "\n",
    "An associate is a rules based algorithm to group items together, such as those found in a RDBMS. Association Algoritms work be finding co-occurences between how two objects are utilized, for example if a person has bought a car, they are likely to buy gas, thus cars and gas are associated. Clustering algorithms are used to find small groupings of object that share similar properties. In this framing cars of a similar make or model would be grouped together and gas would be grouped to other consumables such as diesel. \n"
   ]
  },
  {
   "attachments": {},
   "cell_type": "markdown",
   "metadata": {},
   "source": [
    "### 5.4 Linear Regression\n",
    "- How do we draw the line of linear regression using Least Square Method? What is the equation of line? How do we calculate slope and coefficient of a line using Least Square Method?\n",
    "\n",
    "The least squares method is used to find a line of best fit such that the mean distance between the line and the points from our dataset are minimized.  \n",
    "\n",
    "From the linear model we are trying to find some equation $\\hat{y} = ax+b$ where $\\hat{y}$ is the dependent variable, x is the independent variable, a is the slope of the line of best fit and b is some intercept. \n",
    "\n",
    "The slope is calculated as: $a = \\frac{\\sum{(x - \\bar{x})(y - \\bar{y})}}{\\sum{(x-\\bar{x})}^2}$\n",
    "\n",
    "The intercept may be found as: $b = \\frac{\\sum{y} - (a \\sum{x}) }{n}$\n",
    "\n",
    "- Explain Gradient Descent. How does it optimize the Line of Linear Regression?\n",
    "\n",
    "Gradient Descent is an iterative approach to finding minima of a loss function. This is achieved by selecting a learning rate and using the learning rate with the partial differential of the parameter of interest in a stepwise manner such that each step reduces the loss. \n",
    "\n"
   ]
  },
  {
   "attachments": {},
   "cell_type": "markdown",
   "metadata": {},
   "source": [
    "### 5.5 Logistic Regression\n",
    "\n",
    "- What is the equation of Logistic Regression? How will you derive this equation from Linear Regression (Equation of a Straight Line)?\n",
    "\n",
    "Logistic regression solves the task of binary prediction. To do this it uses the odds ratio $odds = \\frac{p}{1-p}$ and the logit (log-odds): $logit(p) = log (\\frac{p}{1-p} )$. \n",
    "\n",
    "This relates to the linear regression model as we assume there is a linear relationship between the log odds and the weighted model inputs as follows:\n",
    "\n",
    "$$logit(p) = \\sum_{i=j} w_j x_j = \\mathbf{w}^T \\mathbf{x} + b$$\n",
    "\n",
    "The logit function maps the probability p to the real-number line $b$ and the logit's inverse function, the logistic sigmoid function maps a real-numbered input to the interval [0,1]. The sigmoid function for the linear combination of $ \\mathbf{z} = \\mathbf{w}^T \\mathbf{x} +b $ is defined as: \n",
    "\n",
    "$$\\sigma{(z)} = \\frac{1}{1+exp(-z)}$$\n",
    "\n",
    "---\n",
    "\n",
    "- What are the advantages and disadvantages of Logistic Regression?\n",
    "\n",
    "Logistic regression is an easy to implement classification algorithm that performs well on a dataset that is linearly separable. LR is less prone to overfitting and for large datasets can utilize L1 and L2 regularization to further reduce overfitting. LR gives a rough idea of effect size through coefficient size as well as direction of association through coefficient direction. \n",
    "\n",
    "Logistic regression often fails as it assumes linearity and linearly separable data. \n",
    "\n",
    "- What is the difference between Linear Regression and Logistic regression? \n",
    "\n",
    "Logistic regression predicts discrete values based on the independent variables, where as Linear regression predicts continuous values. \n",
    "\n"
   ]
  },
  {
   "attachments": {},
   "cell_type": "markdown",
   "metadata": {},
   "source": [
    "### 5.6 KNN\n",
    "\n",
    "- What is “K” in KNN algorithm? How to choose optimal value of K?\n",
    "\n",
    "In KNN the K value is the number of nearest neighbors, by Euclidean distance to compare the current observation's class to in order to determine the current observation's class.  \n",
    "\n",
    "- Why the odd value of “K” is preferable in KNN algorithm? \n",
    "\n",
    "K is chosen to be an odd number as this allows for a majority vote on class to be made without ties. \n",
    "\n",
    "- Why is KNN algorithm called Lazy Learner? \n",
    "\n",
    "KNN does not learn parameters from the training data and thus during inference time we must have all data loaded into memory to do predictions. \n",
    "\n",
    "- Why should we not use KNN algorithm for large datasets? \n",
    "\n",
    "Since KNN is a lazy learner, to do inference we need to store a large amount of data in memory, which is inefficient or in some cases not possible. On top of that to do KNN we have to compute distance of each given point to each other given point, which is inefficient for large datasets. \n",
    "\n",
    "- What are the advantages and disadvantages of KNN algorithm? \n",
    "\n",
    "Pros: \n",
    "\n",
    "KNN is a simple to understand and apply algorithm with no training time required as it is a lazy learner. Additionally, since KNN does not learn parameters, new data can be added without the requirement to retrain parameters.\n",
    "\n",
    "Cons: \n",
    "KNN requires all data to be loaded into memory and requires $O(N^2)$ calculations to compute the distance between all points in the data so KNN is not a good choice for large datasets or high dimensionality. Additionally, since KNN is distance based, features mustbe scaled before applying the KNN algorithm. \n",
    "\n",
    "- What is the difference between Euclidean Distance and Manhattan Distance? What is the formula of Euclidean distance and Manhattan distance? \n",
    "\n",
    "Euclidean distance is the straight line distance between two points. For example consider the two points in 2S space, $x=(a,b)$ and $y=(c, d)$. \n",
    "\n",
    "The Euclidean distance is: $\\sqrt{(a-c)^2 + (b-d)^2}$\n",
    "\n",
    "The Manhattan distance is: $|a-c| + |b - d|$\n"
   ]
  },
  {
   "attachments": {},
   "cell_type": "markdown",
   "metadata": {},
   "source": [
    "### 5.7 SVM\n",
    "\n",
    "- Define the terms: Support Vectors and Hyperplanes\n",
    "\n",
    "\n",
    "- What are Kernel Functions and Tricks in SVM? \n",
    "\n",
    "- What are the various types of Kernels in SVM? \n",
    "- What is the difference between Linear, Polynomial, Gaussian and Sigmoid Kernels? \n",
    "- How are these used for transformation of non-linear data into linear data?\n",
    "\n",
    "- Can SVM be used to solve regression problems? What is SVR (Support Vector Regression)?\n",
    "\n",
    "- What are the advantages and disadvantages of SVM?\n",
    "\n"
   ]
  },
  {
   "attachments": {},
   "cell_type": "markdown",
   "metadata": {},
   "source": [
    "### 5.8 Naive Bayes"
   ]
  },
  {
   "attachments": {},
   "cell_type": "markdown",
   "metadata": {},
   "source": [
    "### 5.9 Decision Trees\n",
    "\n",
    "- Define the terms: GINI Index, Entropy and Information Gain. How will you calculate these terms from a given dataset to select the nodes of the tree?\n",
    "\n"
   ]
  },
  {
   "attachments": {},
   "cell_type": "markdown",
   "metadata": {},
   "source": [
    "### 5.10 Random Forest"
   ]
  },
  {
   "attachments": {},
   "cell_type": "markdown",
   "metadata": {},
   "source": [
    "### 5.11 Bias and Variance"
   ]
  },
  {
   "attachments": {},
   "cell_type": "markdown",
   "metadata": {},
   "source": [
    "### 5.12 Cross validation"
   ]
  },
  {
   "attachments": {},
   "cell_type": "markdown",
   "metadata": {},
   "source": [
    "### 5.13 Regularization"
   ]
  },
  {
   "attachments": {},
   "cell_type": "markdown",
   "metadata": {},
   "source": [
    "### 5.14 Ensemble Learning"
   ]
  },
  {
   "attachments": {},
   "cell_type": "markdown",
   "metadata": {},
   "source": [
    "### 5.15 Adaboost"
   ]
  },
  {
   "attachments": {},
   "cell_type": "markdown",
   "metadata": {},
   "source": [
    "### 5.16 GBM (Gradient Boosting Machine)"
   ]
  },
  {
   "attachments": {},
   "cell_type": "markdown",
   "metadata": {},
   "source": [
    "### 5.17 XGBoost"
   ]
  },
  {
   "attachments": {},
   "cell_type": "markdown",
   "metadata": {},
   "source": [
    "### 5.18 Kmeans clustering "
   ]
  },
  {
   "attachments": {},
   "cell_type": "markdown",
   "metadata": {},
   "source": [
    "### 5.19 Timeseries Analysis"
   ]
  },
  {
   "attachments": {},
   "cell_type": "markdown",
   "metadata": {},
   "source": [
    "### 5.20 Sentiment Analysis\n"
   ]
  },
  {
   "attachments": {},
   "cell_type": "markdown",
   "metadata": {},
   "source": [
    "## 6. Accuracy Measurements\n"
   ]
  },
  {
   "attachments": {},
   "cell_type": "markdown",
   "metadata": {},
   "source": [
    "### 6.1 Name some metrics which we use to measure the accuracy of the classification and regression algorithms.\n"
   ]
  },
  {
   "attachments": {},
   "cell_type": "markdown",
   "metadata": {},
   "source": [
    "### 6.2  What is Confusion Matrix? What do you mean by True Positive, True Negative, False Positive and False Negative in Confusion Matrix?\n",
    "\n",
    "The confusion matrix is a visual representation of the classification results of a model on the training data. Along the y-axis we have the predicted value of the classification and along the x-axis we have the ground truth label of the category. \n",
    "\n",
    "TP: A correctly predicted example from the positive class in the ground truth labels.\n",
    "\n",
    "TN: A correctly predicted example from the negative class in the ground truth labels.\n",
    "\n",
    "FP (Type I error): An incorrect prediction that the observation has a positive label, although the ground truth value is negative. \n",
    "\n",
    "FN (Type II error): An incorrect prediction that the observation has a negative label when the ground truth label is positive. \n",
    "\n",
    "![image.png](/home/dloader-ubuntu/tutorial-hell/interview-prep/confusion-matrix.png)"
   ]
  },
  {
   "attachments": {},
   "cell_type": "markdown",
   "metadata": {},
   "source": [
    "### 6.3 How do we manually calculate Accuracy Score from Confusion Matrix?\n",
    "\n",
    "Accuracy: $\\frac{TP}{TP+FP}$"
   ]
  },
  {
   "attachments": {},
   "cell_type": "markdown",
   "metadata": {},
   "source": [
    "### 6.4 What is Sensitivity (True Positive Rate) and Specificity (True Negative Rate)? How will you calculate it from Confusion Matrix? What is its formula? \n",
    "\n",
    "Sensitivity: $\\frac{TP}{TP+FN}$ = $\\frac{Number\\ of\\ correctly\\ predicted\\ positive\\ labels}{Number\\ of\\ ground\\ truth\\ true\\ labels}$\n",
    "\n",
    "Specificity: $\\frac{TN}{TN + FP}$ = $\\frac{Number\\ of\\ correctly\\ predicted\\ negative\\ labels}{Number\\ of\\ ground truth\\ negatives}$\n",
    "\n"
   ]
  },
  {
   "attachments": {},
   "cell_type": "markdown",
   "metadata": {},
   "source": [
    "### 6.5 What is the difference between Precision and Recall? How will you calculate it from Confusion Matrix? What is its formula?\n",
    "\n",
    "Precision: $\\frac{TP}{TP+FP}$ = $\\frac{\\text{True Positives}}{\\text{All predicted positives}}$\n",
    "\n",
    "Recall: $\\frac{TP}{TP+FN}$ = $\\frac{True\\ positives}{\\text{All positive cases in the ground truth labels}}$\n",
    "\n"
   ]
  },
  {
   "attachments": {},
   "cell_type": "markdown",
   "metadata": {},
   "source": [
    "### 6.6 What do you mean by ROC (Receiver Operating Characteristic) curve and AUC (Area Under the ROC Curve)? How is this curve used to measure the performance of a classification model?"
   ]
  },
  {
   "attachments": {},
   "cell_type": "markdown",
   "metadata": {},
   "source": [
    "### 6.7 What do you understand by Type I vs Type II error ? What is the difference between them?\n",
    "\n",
    "Type I error is the probability of predicting a positive result given the observation is actually negative. "
   ]
  },
  {
   "attachments": {},
   "cell_type": "markdown",
   "metadata": {},
   "source": [
    "### 6.8 What is Classification Report? Describe its various attributes like Precision, Recall, F1 Score and Support."
   ]
  },
  {
   "attachments": {},
   "cell_type": "markdown",
   "metadata": {},
   "source": [
    "### 6.9 What is the difference between F1 Score and Accuracy Score?"
   ]
  },
  {
   "attachments": {},
   "cell_type": "markdown",
   "metadata": {},
   "source": [
    "### 6.10 What do you mean by Loss Function? Name some commonly used Loss Functions. Define Mean Absolute Error, Mean Squared Error, Root Mean Squared Error, Sum of Absolute Error, Sum of Squared Error, R Square Method, Adjusted R Square Method."
   ]
  },
  {
   "attachments": {},
   "cell_type": "markdown",
   "metadata": {},
   "source": [
    "### 6."
   ]
  },
  {
   "cell_type": "markdown",
   "metadata": {},
   "source": []
  },
  {
   "cell_type": "markdown",
   "metadata": {},
   "source": []
  },
  {
   "cell_type": "markdown",
   "metadata": {},
   "source": []
  },
  {
   "cell_type": "markdown",
   "metadata": {},
   "source": []
  },
  {
   "cell_type": "markdown",
   "metadata": {},
   "source": []
  }
 ],
 "metadata": {
  "language_info": {
   "name": "python"
  },
  "orig_nbformat": 4
 },
 "nbformat": 4,
 "nbformat_minor": 2
}
