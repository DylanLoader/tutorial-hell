{
 "cells": [
  {
   "cell_type": "code",
   "execution_count": 2,
   "metadata": {},
   "outputs": [],
   "source": [
    "# Imports\n",
    "import os\n",
    "import random\n",
    "\n",
    "from torchbiggraph.converters.import_from_tsv import convert_input_data\n",
    "from torchbiggraph.config import parse_config\n",
    "from torchbiggraph.train import train\n",
    "from torchbiggraph.eval import do_eval"
   ]
  },
  {
   "cell_type": "code",
   "execution_count": 3,
   "metadata": {},
   "outputs": [
    {
     "name": "stdout",
     "output_type": "stream",
     "text": [
      "Found some files that indicate that the input data has already been shuffled and split, not doing it again.\n",
      "These files are: ../data/medium-data/example_1/train.txt, ../data/medium-data/example_1/test.txt\n"
     ]
    }
   ],
   "source": [
    "def convert_path(fname):\n",
    "    basename, _ = os.path.splitext(fname)\n",
    "    out_dir = basename + '_partitioned'\n",
    "    return out_dir\n",
    "\n",
    "def random_split_file(fpath):\n",
    "    root = os.path.dirname(fpath)\n",
    "\n",
    "    output_paths = [\n",
    "        os.path.join(root, FILENAMES['train']),\n",
    "        os.path.join(root, FILENAMES['test']),\n",
    "    ]\n",
    "    if all(os.path.exists(path) for path in output_paths):\n",
    "        print(\"Found some files that indicate that the input data \"\n",
    "              \"has already been shuffled and split, not doing it again.\")\n",
    "        print(\"These files are: %s\" % \", \".join(output_paths))\n",
    "        return\n",
    "\n",
    "    print('Shuffling and splitting train/test file. This may take a while.')\n",
    "    train_file = os.path.join(root, FILENAMES['train'])\n",
    "    test_file = os.path.join(root, FILENAMES['test'])\n",
    "\n",
    "    print('Reading data from file: ', fpath)\n",
    "    with open(fpath, \"rt\") as in_tf:\n",
    "        lines = in_tf.readlines()\n",
    "\n",
    "    # The first few lines are comments\n",
    "    lines = lines[4:]\n",
    "    print('Shuffling data')\n",
    "    random.shuffle(lines)\n",
    "    split_len = int(len(lines) * TRAIN_FRACTION)\n",
    "\n",
    "    print('Splitting to train and test files')\n",
    "    with open(train_file, \"wt\") as out_tf_train:\n",
    "        for line in lines[:split_len]:\n",
    "            out_tf_train.write(line)\n",
    "\n",
    "    with open(test_file, \"wt\") as out_tf_test:\n",
    "        for line in lines[split_len:]:\n",
    "            out_tf_test.write(line)\n",
    "\n",
    "DATA_PATH = \"../data/medium-data/example_1/example.txt\"\n",
    "DATA_DIR = \"data/example_1\"\n",
    "CONFIG_PATH = \"config_1.py\"\n",
    "FILENAMES = {\n",
    "    'train': 'train.txt',\n",
    "    'test': 'test.txt',\n",
    "}\n",
    "TRAIN_FRACTION = 0.75\n",
    "\n",
    "# ----------------------------------------------------------------------------------------------------------------------\n",
    "#\n",
    "\n",
    "random_split_file(DATA_PATH)"
   ]
  },
  {
   "cell_type": "code",
   "execution_count": 7,
   "metadata": {},
   "outputs": [
    {
     "ename": "TypeError",
     "evalue": "convert_input_data() got an unexpected keyword argument 'lhs'",
     "output_type": "error",
     "traceback": [
      "\u001b[0;31m---------------------------------------------------------------------------\u001b[0m",
      "\u001b[0;31mTypeError\u001b[0m                                 Traceback (most recent call last)",
      "\u001b[1;32m/home/dloader-ubuntu/tutorial-hell/PyTorch-BigGraph-Tutorial/notebooks/medium-tutorial.ipynb Cell 3\u001b[0m in \u001b[0;36m4\n\u001b[1;32m      <a href='vscode-notebook-cell://wsl%2Bubuntu-20.04/home/dloader-ubuntu/tutorial-hell/PyTorch-BigGraph-Tutorial/notebooks/medium-tutorial.ipynb#W3sdnNjb2RlLXJlbW90ZQ%3D%3D?line=0'>1</a>\u001b[0m CONFIG_PATH \u001b[39m=\u001b[39m \u001b[39m\"\u001b[39m\u001b[39mconfig_1.py\u001b[39m\u001b[39m\"\u001b[39m\n\u001b[1;32m      <a href='vscode-notebook-cell://wsl%2Bubuntu-20.04/home/dloader-ubuntu/tutorial-hell/PyTorch-BigGraph-Tutorial/notebooks/medium-tutorial.ipynb#W3sdnNjb2RlLXJlbW90ZQ%3D%3D?line=1'>2</a>\u001b[0m edge_paths \u001b[39m=\u001b[39m [os\u001b[39m.\u001b[39mpath\u001b[39m.\u001b[39mjoin(DATA_DIR, name) \u001b[39mfor\u001b[39;00m name \u001b[39min\u001b[39;00m FILENAMES\u001b[39m.\u001b[39mvalues()]\n\u001b[0;32m----> <a href='vscode-notebook-cell://wsl%2Bubuntu-20.04/home/dloader-ubuntu/tutorial-hell/PyTorch-BigGraph-Tutorial/notebooks/medium-tutorial.ipynb#W3sdnNjb2RlLXJlbW90ZQ%3D%3D?line=3'>4</a>\u001b[0m convert_input_data(\n\u001b[1;32m      <a href='vscode-notebook-cell://wsl%2Bubuntu-20.04/home/dloader-ubuntu/tutorial-hell/PyTorch-BigGraph-Tutorial/notebooks/medium-tutorial.ipynb#W3sdnNjb2RlLXJlbW90ZQ%3D%3D?line=4'>5</a>\u001b[0m     CONFIG_PATH,\n\u001b[1;32m      <a href='vscode-notebook-cell://wsl%2Bubuntu-20.04/home/dloader-ubuntu/tutorial-hell/PyTorch-BigGraph-Tutorial/notebooks/medium-tutorial.ipynb#W3sdnNjb2RlLXJlbW90ZQ%3D%3D?line=5'>6</a>\u001b[0m     edge_paths,\n\u001b[1;32m      <a href='vscode-notebook-cell://wsl%2Bubuntu-20.04/home/dloader-ubuntu/tutorial-hell/PyTorch-BigGraph-Tutorial/notebooks/medium-tutorial.ipynb#W3sdnNjb2RlLXJlbW90ZQ%3D%3D?line=6'>7</a>\u001b[0m     lhs\u001b[39m=\u001b[39;49m\u001b[39m0\u001b[39;49m,\n\u001b[1;32m      <a href='vscode-notebook-cell://wsl%2Bubuntu-20.04/home/dloader-ubuntu/tutorial-hell/PyTorch-BigGraph-Tutorial/notebooks/medium-tutorial.ipynb#W3sdnNjb2RlLXJlbW90ZQ%3D%3D?line=7'>8</a>\u001b[0m     rhs\u001b[39m=\u001b[39;49m\u001b[39m1\u001b[39;49m,\n\u001b[1;32m      <a href='vscode-notebook-cell://wsl%2Bubuntu-20.04/home/dloader-ubuntu/tutorial-hell/PyTorch-BigGraph-Tutorial/notebooks/medium-tutorial.ipynb#W3sdnNjb2RlLXJlbW90ZQ%3D%3D?line=8'>9</a>\u001b[0m     rel\u001b[39m=\u001b[39;49m\u001b[39mNone\u001b[39;49;00m,\n\u001b[1;32m     <a href='vscode-notebook-cell://wsl%2Bubuntu-20.04/home/dloader-ubuntu/tutorial-hell/PyTorch-BigGraph-Tutorial/notebooks/medium-tutorial.ipynb#W3sdnNjb2RlLXJlbW90ZQ%3D%3D?line=9'>10</a>\u001b[0m )\n",
      "\u001b[0;31mTypeError\u001b[0m: convert_input_data() got an unexpected keyword argument 'lhs'"
     ]
    }
   ],
   "source": [
    "CONFIG_PATH = \"config_1.py\"\n",
    "edge_paths = [os.path.join(DATA_DIR, name) for name in FILENAMES.values()]\n",
    "\n",
    "convert_input_data(\n",
    "    CONFIG_PATH,\n",
    "    edge_paths,\n",
    "    lhs=0,\n",
    "    rhs=1,\n",
    "    rel=None,\n",
    ")"
   ]
  },
  {
   "cell_type": "code",
   "execution_count": 11,
   "metadata": {},
   "outputs": [],
   "source": [
    "convert_input_data()"
   ]
  },
  {
   "cell_type": "code",
   "execution_count": null,
   "metadata": {},
   "outputs": [],
   "source": []
  }
 ],
 "metadata": {
  "kernelspec": {
   "display_name": "xente-env",
   "language": "python",
   "name": "python3"
  },
  "language_info": {
   "codemirror_mode": {
    "name": "ipython",
    "version": 3
   },
   "file_extension": ".py",
   "mimetype": "text/x-python",
   "name": "python",
   "nbconvert_exporter": "python",
   "pygments_lexer": "ipython3",
   "version": "3.10.8"
  },
  "orig_nbformat": 4
 },
 "nbformat": 4,
 "nbformat_minor": 2
}
