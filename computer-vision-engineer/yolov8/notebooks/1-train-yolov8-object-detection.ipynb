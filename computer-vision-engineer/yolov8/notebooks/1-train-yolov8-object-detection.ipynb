{
 "cells": [
  {
   "attachments": {},
   "cell_type": "markdown",
   "metadata": {},
   "source": [
    "# Train Yolov8 object detection\n",
    "\n",
    "source: https://youtu.be/m9fH9OWn8YM?list=PLb49csYFtO2FXGMZxqmPrw_0GPJnPR0Up"
   ]
  },
  {
   "attachments": {},
   "cell_type": "markdown",
   "metadata": {},
   "source": []
  },
  {
   "cell_type": "code",
   "execution_count": null,
   "metadata": {},
   "outputs": [],
   "source": [
    "import os \n",
    "from ultralytics import YOLO\n",
    "\n",
    "# Load a model \n",
    "model = YOLO(\"yolov8n.yaml\") # build new model from scratch\n",
    "\n",
    "results = model.train(data = os.path.join(ROOT_DIR, ))"
   ]
  }
 ],
 "metadata": {
  "kernelspec": {
   "display_name": "yolo-v8-env",
   "language": "python",
   "name": "python3"
  },
  "language_info": {
   "name": "python",
   "version": "3.10.11"
  },
  "orig_nbformat": 4
 },
 "nbformat": 4,
 "nbformat_minor": 2
}
